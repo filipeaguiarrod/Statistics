{
  "nbformat": 4,
  "nbformat_minor": 0,
  "metadata": {
    "colab": {
      "name": "Bootstrap.ipynb",
      "provenance": [],
      "authorship_tag": "ABX9TyNQ4FhZpBj4NIP1r3LQkFEH"
    },
    "kernelspec": {
      "name": "python3",
      "display_name": "Python 3"
    },
    "language_info": {
      "name": "python"
    }
  },
  "cells": [
    {
      "cell_type": "code",
      "execution_count": null,
      "metadata": {
        "id": "1u6-MiNzUHxK"
      },
      "outputs": [],
      "source": [
        "import numpy as np\n",
        "import seaborn as sns"
      ]
    },
    {
      "cell_type": "markdown",
      "source": [
        "# Boostrap"
      ],
      "metadata": {
        "id": "WuVBevt8Ub8I"
      }
    },
    {
      "cell_type": "markdown",
      "source": [
        "## Resampling an array"
      ],
      "metadata": {
        "id": "g82r66HIUqpr"
      }
    },
    {
      "cell_type": "code",
      "source": [
        "array = np.random.randn(20) \n",
        "print(array)"
      ],
      "metadata": {
        "colab": {
          "base_uri": "https://localhost:8080/"
        },
        "id": "cbugA9tLUsFa",
        "outputId": "97542863-5cad-49a9-8580-2985f140f5be"
      },
      "execution_count": null,
      "outputs": [
        {
          "output_type": "stream",
          "name": "stdout",
          "text": [
            "[-1.56259292  0.86485459  1.49317365 -0.39770038  0.45126919 -1.07706822\n",
            "  0.07018862  0.27186075 -0.64078885  0.55767454 -0.03001769  1.11212893\n",
            " -0.75505883  0.09731875 -0.70809591  0.60090024  0.31170149  1.10444912\n",
            " -1.80000619  0.69579605]\n"
          ]
        }
      ]
    },
    {
      "cell_type": "markdown",
      "source": [
        "We will create a new array with same size of raw, but now we will use sample with replacement to see how should be our new array."
      ],
      "metadata": {
        "id": "H4P0GtFKVdVL"
      }
    },
    {
      "cell_type": "code",
      "source": [
        "len(array)"
      ],
      "metadata": {
        "colab": {
          "base_uri": "https://localhost:8080/"
        },
        "id": "9wMDfE-fVrBY",
        "outputId": "a2fd75d2-07e2-4bfb-f072-ba8d4fcda5aa"
      },
      "execution_count": null,
      "outputs": [
        {
          "output_type": "execute_result",
          "data": {
            "text/plain": [
              "20"
            ]
          },
          "metadata": {},
          "execution_count": 5
        }
      ]
    },
    {
      "cell_type": "code",
      "source": [
        "# Bootstrap sample\n",
        "\n",
        "np.random.choice(array,size=len(array)) # array with samples from raw array"
      ],
      "metadata": {
        "colab": {
          "base_uri": "https://localhost:8080/"
        },
        "id": "jsRscKIvXfpR",
        "outputId": "8e057c73-9ba4-4fad-c997-63bd3bfb942d"
      },
      "execution_count": null,
      "outputs": [
        {
          "output_type": "execute_result",
          "data": {
            "text/plain": [
              "array([ 0.60090024, -0.64078885,  0.86485459, -0.64078885,  0.07018862,\n",
              "        0.86485459,  0.60090024,  0.09731875,  1.10444912, -0.64078885,\n",
              "        0.27186075,  0.27186075,  1.11212893, -1.56259292,  0.31170149,\n",
              "       -1.56259292, -0.39770038,  0.69579605,  1.10444912, -0.39770038])"
            ]
          },
          "metadata": {},
          "execution_count": 6
        }
      ]
    },
    {
      "cell_type": "code",
      "source": [
        "## Bootstrap replicate\n",
        "\"A statistic computed from a resampled array\"\n",
        "\n",
        "np.random.choice(array,size=len(array)).mean()"
      ],
      "metadata": {
        "colab": {
          "base_uri": "https://localhost:8080/"
        },
        "id": "Otf8uIHvaO3t",
        "outputId": "48cc2c15-417d-4159-9ea2-8b8ffb1ce99a"
      },
      "execution_count": null,
      "outputs": [
        {
          "output_type": "execute_result",
          "data": {
            "text/plain": [
              "0.03009484504758994"
            ]
          },
          "metadata": {},
          "execution_count": 7
        }
      ]
    },
    {
      "cell_type": "markdown",
      "source": [
        "## Many bootstrap replicates \n",
        "With that we should be able to compute confidence intervals"
      ],
      "metadata": {
        "id": "Pw5bE89sX1Ho"
      }
    },
    {
      "cell_type": "code",
      "source": [
        "# Same that CLT - Central Limit Theorem\n",
        "\n",
        "array_boot = np.empty(10000)\n",
        "\n",
        "for i in range(10000):\n",
        "\n",
        "  array_boot[i] = np.random.choice(array,size=len(array)).mean()"
      ],
      "metadata": {
        "id": "DGnPRt_FX6Vs"
      },
      "execution_count": null,
      "outputs": []
    },
    {
      "cell_type": "code",
      "source": [
        "sns.histplot(array_boot)"
      ],
      "metadata": {
        "colab": {
          "base_uri": "https://localhost:8080/",
          "height": 282
        },
        "id": "bJT141nLZcoi",
        "outputId": "97c44a06-1241-401f-af59-b472b7245b1b"
      },
      "execution_count": null,
      "outputs": [
        {
          "output_type": "execute_result",
          "data": {
            "text/plain": [
              "<matplotlib.axes._subplots.AxesSubplot at 0x7fb4525b3c90>"
            ]
          },
          "metadata": {},
          "execution_count": 10
        },
        {
          "output_type": "display_data",
          "data": {
            "text/plain": [
              "<Figure size 432x288 with 1 Axes>"
            ],
            "image/png": "[encoded data removed]"
          },
          "metadata": {
            "needs_background": "light"
          }
        }
      ]
    },
    {
      "cell_type": "code",
      "source": [
        "# Confidence Interval \n",
        "\n",
        "int = np.percentile(array_boot, [2.5, 97.5])\n",
        "int"
      ],
      "metadata": {
        "colab": {
          "base_uri": "https://localhost:8080/"
        },
        "id": "qRM2fewGbjoe",
        "outputId": "7d62efc7-9e37-43e3-87b8-0f5117791ee7"
      },
      "execution_count": null,
      "outputs": [
        {
          "output_type": "execute_result",
          "data": {
            "text/plain": [
              "array([-0.36328434,  0.41397789])"
            ]
          },
          "metadata": {},
          "execution_count": 11
        }
      ]
    },
    {
      "cell_type": "markdown",
      "source": [
        "# Pairs Bootstrap\n",
        "\n",
        "Used to make an bootstrap in variables that could not be alone, example: (x,y) - Slope and intercept "
      ],
      "metadata": {
        "id": "c5eFdd2bxmNs"
      }
    },
    {
      "cell_type": "code",
      "source": [
        "np.arange(10)"
      ],
      "metadata": {
        "colab": {
          "base_uri": "https://localhost:8080/"
        },
        "id": "CuIjAaNwyBDY",
        "outputId": "09a3e61b-20cf-4955-c570-8a727ac8f102"
      },
      "execution_count": null,
      "outputs": [
        {
          "output_type": "execute_result",
          "data": {
            "text/plain": [
              "array([0, 1, 2, 3, 4, 5, 6, 7, 8, 9])"
            ]
          },
          "metadata": {},
          "execution_count": 12
        }
      ]
    },
    {
      "cell_type": "code",
      "source": [
        "def draw_bs_pairs_linreg(x, y, size=1):\n",
        "    \"\"\"Perform pairs bootstrap for linear regression.\"\"\"\n",
        "\n",
        "    # Set up array of indices to sample from: inds\n",
        "    inds = np.arange(len(x))\n",
        "\n",
        "    # Initialize replicates: bs_slope_reps, bs_intercept_reps\n",
        "    bs_slope_reps = np.empty(size)\n",
        "    bs_intercept_reps = np.empty(size)\n",
        "\n",
        "    # Generate replicates\n",
        "    for i in range(size):\n",
        "        bs_inds = np.random.choice(inds, size=size)\n",
        "        bs_x, bs_y = x[bs_inds], y[bs_inds]\n",
        "        bs_slope_reps[i], bs_intercept_reps[i] = np.polyfit(bs_x, bs_y)\n",
        "\n",
        "    return bs_slope_reps, bs_intercept_reps\n",
        "\n"
      ],
      "metadata": {
        "id": "86jTwh0Xx_0z"
      },
      "execution_count": null,
      "outputs": []
    }
  ]
}