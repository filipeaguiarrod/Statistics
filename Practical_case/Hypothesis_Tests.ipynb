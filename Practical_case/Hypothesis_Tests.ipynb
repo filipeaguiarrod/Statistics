{
  "nbformat": 4,
  "nbformat_minor": 0,
  "metadata": {
    "colab": {
      "name": "Hypothesis_Tests",
      "provenance": [],
      "collapsed_sections": [],
      "authorship_tag": "ABX9TyPkZiZvKz+FQlyxFwQ1Sxmd"
    },
    "kernelspec": {
      "name": "python3",
      "display_name": "Python 3"
    }
  },
  "cells": [
    {
      "cell_type": "markdown",
      "source": [
        "## Libraries"
      ],
      "metadata": {
        "id": "41mlS2sTkAVO"
      }
    },
    {
      "cell_type": "code",
      "source": [
        "import numpy as np\n",
        "import matplotlib.pyplot as plt\n",
        "import seaborn as sns"
      ],
      "metadata": {
        "id": "hzMRqBLz18wL"
      },
      "execution_count": 32,
      "outputs": []
    },
    {
      "cell_type": "code",
      "source": [
        "def ecdf(a):\n",
        "  x = np.sort(a)\n",
        "  y = np.arange(len(x))/float(len(x))\n",
        "  return x,y"
      ],
      "metadata": {
        "id": "CHPxqwD52kaq"
      },
      "execution_count": 33,
      "outputs": []
    },
    {
      "cell_type": "markdown",
      "source": [
        "# Hypothesis Tests\n",
        "\n",
        "Assessment of how reasonable the observed data are\n",
        "assuming a hypothesis is true\n",
        "\n",
        "- Ho = Summary Statistics are the same / Distributions are the same\n",
        "- Ha = \"\"\" are not the same "
      ],
      "metadata": {
        "id": "Hd54dpXWkrGw"
      }
    },
    {
      "cell_type": "markdown",
      "source": [
        "![image.png](data:image/png;base64,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)"
      ],
      "metadata": {
        "id": "keEQkfCakw-W"
      }
    },
    {
      "cell_type": "markdown",
      "source": [
        "## Permutation (Embaralhar)\n",
        "\n",
        "In the video, you learned that permutation sampling is a great way to simulate the hypothesis that two variables have identical probability distributions."
      ],
      "metadata": {
        "id": "TV_o3fknyjvK"
      }
    },
    {
      "cell_type": "code",
      "source": [
        "def permutation_sample(data1, data2):\n",
        "    \"\"\"Generate a permutation sample from two data sets.\"\"\"\n",
        "\n",
        "    # Concatenate the data sets: data\n",
        "    data = np.concatenate((data1,data2))\n",
        "\n",
        "    # Permute the concatenated array: permuted_data\n",
        "    permuted_data = np.random.permutation(data)\n",
        "\n",
        "    # Split the permuted array into two: perm_sample_1, perm_sample_2\n",
        "    perm_sample_1 = permuted_data[:len(data1)]\n",
        "    perm_sample_2 = permuted_data[len(data1):]\n",
        "\n",
        "    return perm_sample_1, perm_sample_2"
      ],
      "metadata": {
        "id": "XzuPvdLQhlku"
      },
      "execution_count": 34,
      "outputs": []
    },
    {
      "cell_type": "markdown",
      "source": [
        "Example of Hypothesis Test: The rain distributions are the same in  June and November. How to test it ? "
      ],
      "metadata": {
        "id": "Wctosldz1WQd"
      }
    },
    {
      "cell_type": "code",
      "source": [
        "rain_june = np.array([ 66.2,  39.7,  76.4,  26.5,  11.2,  61.8,   6.1,  48.4,  89.2,\n",
        "       104. ,  34. ,  60.6,  57.1,  79.1,  90.9,  32.3,  63.8,  78.2,\n",
        "        27.5,  43.4,  30.1,  17.3,  77.5,  44.9,  92.2,  39.6,  79.4,\n",
        "        66.1,  53.5,  98.5,  20.8,  55.5,  39.6,  56. ,  65.1,  14.8,\n",
        "        13.2,  88.1,   8.4,  32.1,  19.6,  40.4,   2.2,  77.5, 105.4,\n",
        "        77.2,  38. ,  27.1, 111.8,  17.2,  26.7,  23.3,  77.2,  87.2,\n",
        "        27.7,  50.6,  60.3,  15.1,   6. ,  29.4,  39.3,  56.3,  80.4,\n",
        "        85.3,  68.4,  72.5,  13.3,  28.4,  14.7,  37.4,  49.5,  57.2,\n",
        "        85.9,  82.1,  31.8, 126.6,  30.7,  41.4,  33.9,  13.5,  99.1,\n",
        "        70.2,  91.8,  61.3,  13.7,  54.9,  62.5,  24.2,  69.4,  83.1,\n",
        "        44. ,  48.5,  11.9,  16.6,  66.4,  90. ,  34.9, 132.8,  33.4,\n",
        "       225. ,   7.6,  40.9,  76.5,  48. , 140. ,  55.9,  54.1,  46.4,\n",
        "        68.6,  52.2, 108.3,  14.6,  11.3,  29.8, 130.9, 152.4,  61. ,\n",
        "        46.6,  43.9,  30.9, 111.1,  68.5,  42.2,   9.8, 285.6,  56.7,\n",
        "       168.2,  41.2,  47.8, 166.6,  37.8,  45.4,  43.2])\n",
        "\n",
        "rain_november = np.array([ 83.6,  30.9,  62.2,  37. ,  41. , 160.2,  18.2, 122.4,  71.3,\n",
        "        44.2,  49.1,  37.6, 114.5,  28.8,  82.5,  71.9,  50.7,  67.7,\n",
        "       112. ,  63.6,  42.8,  57.2,  99.1,  86.4,  84.4,  38.1,  17.7,\n",
        "       102.2, 101.3,  58. ,  82. , 101.4,  81.4, 100.1,  54.6,  39.6,\n",
        "        57.5,  29.2,  48.8,  37.3, 115.4,  55.6,  62. ,  95. ,  84.2,\n",
        "       118.1, 153.2,  83.4, 104.7,  59. ,  46.4,  50. , 147.6,  76.8,\n",
        "        59.9, 101.8, 136.6, 173. ,  92.5,  37. ,  59.8, 142.1,   9.9,\n",
        "       158.2,  72.6,  28. , 112.9, 119.3, 199.2,  50.7,  44. , 170.7,\n",
        "        67.2,  21.4,  61.3,  15.6, 106. , 116.2,  42.3,  38.5, 132.5,\n",
        "        40.8, 147.5,  93.9,  71.4,  87.3, 163.7, 141.4,  62.6,  84.9,\n",
        "        28.8, 121.1,  28.6,  32.4, 112. ,  50. ,  96.9,  81.8,  70.4,\n",
        "       117.5,  41.2, 124.9,  78.2,  93. ,  53.5,  50.5,  42.6,  47.9,\n",
        "        73.1, 129.1,  56.9, 103.3,  60.5, 134.3,  93.1,  49.5,  48.2,\n",
        "       167.9,  27. , 111.1,  55.4,  36.2,  57.4,  66.8,  58.3,  60. ,\n",
        "       161.6, 112.7,  37.4, 110.6,  56.6,  95.8, 126.8])"
      ],
      "metadata": {
        "id": "c8U5_mmx1l0D"
      },
      "execution_count": 35,
      "outputs": []
    },
    {
      "cell_type": "code",
      "source": [
        "for i in range(50):\n",
        "    # Generate permutation samples\n",
        "    perm_sample_1, perm_sample_2 = permutation_sample(rain_june,rain_november)\n",
        "\n",
        "\n",
        "    # Compute ECDFs\n",
        "    x_1, y_1 = ecdf(perm_sample_1)\n",
        "    x_2, y_2 = ecdf(perm_sample_2)\n",
        "\n",
        "    # Plot ECDFs of permutation sample\n",
        "    _ = plt.plot(x_1, y_1, marker='.', linestyle='none',\n",
        "                 color='red', alpha=0.02)\n",
        "    _ = plt.plot(x_2, y_2, marker='.', linestyle='none',\n",
        "                 color='blue', alpha=0.02)\n",
        "\n",
        "# Create and plot ECDFs from original data\n",
        "x_1, y_1 = ecdf(rain_june)\n",
        "x_2, y_2 = ecdf(rain_november)\n",
        "_ = plt.plot(x_1, y_1, marker='.', linestyle='none', color='red')\n",
        "_ = plt.plot(x_2, y_2, marker='.', linestyle='none', color='blue')\n",
        "\n",
        "# Label axes, set margin, and show plot\n",
        "plt.margins(0.02)\n",
        "_ = plt.xlabel('monthly rainfall (mm)')\n",
        "_ = plt.ylabel('ECDF')\n",
        "plt.show()"
      ],
      "metadata": {
        "colab": {
          "base_uri": "https://localhost:8080/",
          "height": 281
        },
        "id": "ditOX_Ru2Bd-",
        "outputId": "cf934b81-046a-4ac7-999e-2288aa9d3069"
      },
      "execution_count": 36,
      "outputs": [
        {
          "output_type": "display_data",
          "data": {
            "text/plain": [
              "<Figure size 432x288 with 1 Axes>"
            ],
            "image/png": "[encoded data removed]"
          },
          "metadata": {
            "needs_background": "light"
          }
        }
      ]
    },
    {
      "cell_type": "markdown",
      "source": [
        "# Generating Permutation Replicates"
      ],
      "metadata": {
        "id": "p33WKyhlIKuZ"
      }
    },
    {
      "cell_type": "code",
      "source": [
        "def draw_perm_reps(data_1, data_2, func, size=1):\n",
        "    \"\"\"Generate multiple permutation replicates.\"\"\"\n",
        "\n",
        "    # Initialize array of replicates: perm_replicates\n",
        "    perm_replicates = np.empty(size)\n",
        "\n",
        "    for i in range(size):\n",
        "        # Generate permutation sample\n",
        "        perm_sample_1, perm_sample_2 = permutation_sample(data_1,data_2)\n",
        "\n",
        "        # Compute the test statistic\n",
        "        perm_replicates[i] = func(perm_sample_1, perm_sample_2)\n",
        "\n",
        "    return perm_replicates"
      ],
      "metadata": {
        "id": "Gp8bEoxBIAKJ"
      },
      "execution_count": 37,
      "outputs": []
    },
    {
      "cell_type": "markdown",
      "source": [
        "### Testing function permuting and permuting replicates"
      ],
      "metadata": {
        "id": "2mx45q_fJntj"
      }
    },
    {
      "cell_type": "code",
      "source": [
        "ar_1 = np.arange(0,10)\n",
        "ar_2= np.arange(0,15)"
      ],
      "metadata": {
        "id": "ai_A2McFJYMA"
      },
      "execution_count": 38,
      "outputs": []
    },
    {
      "cell_type": "code",
      "source": [
        "permutation_sample(ar_1,ar_2)"
      ],
      "metadata": {
        "colab": {
          "base_uri": "https://localhost:8080/"
        },
        "id": "m0_VKv7JKKtC",
        "outputId": "71edb8ff-7045-4169-8161-11b27d4f2d1b"
      },
      "execution_count": 39,
      "outputs": [
        {
          "output_type": "execute_result",
          "data": {
            "text/plain": [
              "(array([ 1,  4,  8,  6,  0,  7,  7,  3,  6, 11]),\n",
              " array([ 5, 13,  3, 12, 10,  8, 14,  0,  4,  1,  2,  9,  5,  2,  9]))"
            ]
          },
          "metadata": {},
          "execution_count": 39
        }
      ]
    },
    {
      "cell_type": "markdown",
      "source": [
        "## Hypothesis test examples with Frog data"
      ],
      "metadata": {
        "id": "5Q67bUv4CbJh"
      }
    },
    {
      "cell_type": "code",
      "source": [
        "#Example Frog:\n",
        "# Frog Tongue's force \n",
        "\n",
        "force_a = np.array([1.612, 0.605, 0.327, 0.946, 0.541, 1.539, 0.529, 0.628, 1.453,\n",
        "       0.297, 0.703, 0.269, 0.751, 0.245, 1.182, 0.515, 0.435, 0.383,\n",
        "       0.457, 0.73 ])\n",
        "force_b = np.array([0.172, 0.142, 0.037, 0.453, 0.355, 0.022, 0.502, 0.273, 0.72 ,\n",
        "       0.582, 0.198, 0.198, 0.597, 0.516, 0.815, 0.402, 0.605, 0.711,\n",
        "       0.614, 0.468])\n",
        "force_c = 0.55"
      ],
      "metadata": {
        "id": "BVV5R-eCML3c"
      },
      "execution_count": 40,
      "outputs": []
    },
    {
      "cell_type": "markdown",
      "source": [
        "### Permuation - Two Samples\n",
        "\n",
        "Ho - The forces distribution for frog A and frog B are the same"
      ],
      "metadata": {
        "id": "72HKv_eTCsY-"
      }
    },
    {
      "cell_type": "code",
      "source": [
        "np.mean(force_a)-np.mean(force_b)"
      ],
      "metadata": {
        "colab": {
          "base_uri": "https://localhost:8080/"
        },
        "id": "JrdM470ON5GD",
        "outputId": "9c830fe8-027f-4aab-809f-4c32906bf125"
      },
      "execution_count": 41,
      "outputs": [
        {
          "output_type": "execute_result",
          "data": {
            "text/plain": [
              "0.28825000000000006"
            ]
          },
          "metadata": {},
          "execution_count": 41
        }
      ]
    },
    {
      "cell_type": "code",
      "source": [
        "x_1,y_1 = ecdf(force_a)\n",
        "x_2,y_2 = ecdf(force_b) "
      ],
      "metadata": {
        "id": "6aaK6uLLKjrm"
      },
      "execution_count": 31,
      "outputs": []
    },
    {
      "cell_type": "code",
      "source": [
        "_ = plt.plot(x_1, y_1, marker='.', linestyle='none', color='red')\n",
        "_ = plt.plot(x_2, y_2, marker='.', linestyle='none', color='blue')\n",
        "\n",
        "# Label axes, set margin, and show plot\n",
        "plt.margins(0.02)\n",
        "_ = plt.xlabel('frogs forces (N)')\n",
        "_ = plt.ylabel('ECDF')\n",
        "plt.show()"
      ],
      "metadata": {
        "colab": {
          "base_uri": "https://localhost:8080/",
          "height": 281
        },
        "id": "ubIp8mDsKiA2",
        "outputId": "e5a42623-de9a-48f5-adec-45e06077130a"
      },
      "execution_count": 43,
      "outputs": [
        {
          "output_type": "display_data",
          "data": {
            "text/plain": [
              "<Figure size 432x288 with 1 Axes>"
            ],
            "image/png": "[encoded data removed]"
          },
          "metadata": {
            "needs_background": "light"
          }
        }
      ]
    },
    {
      "cell_type": "code",
      "source": [
        "def diff_of_means(data_1, data_2):\n",
        "    \"\"\"Difference in means of two arrays.\"\"\"\n",
        "\n",
        "    # The difference of means of data_1, data_2: diff\n",
        "    diff = np.mean(data_1)-np.mean(data_2)\n",
        "\n",
        "    return diff\n",
        "\n",
        "# Compute difference of mean impact force from experiment: empirical_diff_means\n",
        "empirical_diff_means = np.mean(force_a)-np.mean(force_b) #Baseline\n",
        "\n",
        "# Draw 10,000 permutation replicates: perm_replicates\n",
        "perm_replicates = draw_perm_reps(force_a, force_b,\n",
        "                                 func=diff_of_means, size=10000)"
      ],
      "metadata": {
        "id": "p98zyLnyOJnE"
      },
      "execution_count": 13,
      "outputs": []
    },
    {
      "cell_type": "code",
      "source": [
        "# Compute p-value: p\n",
        "p = np.sum(perm_replicates >= empirical_diff_means) / len(perm_replicates)\n",
        "\n",
        "# Print the result\n",
        "print('p-value =', p)"
      ],
      "metadata": {
        "colab": {
          "base_uri": "https://localhost:8080/"
        },
        "id": "lGy1XD4vQH4C",
        "outputId": "f95e6910-d86e-41f7-fd99-5f2b3ca6e8c1"
      },
      "execution_count": 14,
      "outputs": [
        {
          "output_type": "stream",
          "name": "stdout",
          "text": [
            "p-value = 0.0051\n"
          ]
        }
      ]
    },
    {
      "cell_type": "code",
      "source": [
        "_ = sns.histplot(perm_replicates)\n",
        "_= plt.axvline(empirical_diff_means, color='red', linestyle='dashed', linewidth=1)\n",
        "plt.show()"
      ],
      "metadata": {
        "colab": {
          "base_uri": "https://localhost:8080/",
          "height": 265
        },
        "id": "Am3tABwcQjug",
        "outputId": "0cbaca59-38aa-4547-951e-e71ee89e1e7e"
      },
      "execution_count": 15,
      "outputs": [
        {
          "output_type": "display_data",
          "data": {
            "text/plain": [
              "<Figure size 432x288 with 1 Axes>"
            ],
            "image/png": "[encoded data removed]"
          },
          "metadata": {
            "needs_background": "light"
          }
        }
      ]
    },
    {
      "cell_type": "markdown",
      "source": [
        "'''FAzendo a permutação e as amostrar eu simulo que os sapos são iguais, dessa forma consigo um histograma mostrando possíveis diferenças (distribuição de diferenças) no \n",
        "caso simulado dos sapos iguais, quando ploto os grupos (baseline) observo que apenas 0.5% de chance dessa diferença pertencer a uma amostra com sapos iguais. \n",
        "POr isso quanto menor o p-valor, maior a chance de serem diferentes'''"
      ],
      "metadata": {
        "id": "HAy0QQ7-DMaQ"
      }
    },
    {
      "cell_type": "markdown",
      "source": [
        "The p-value tells you that there is about a 0.6% chance that you would get the difference of means observed in the experiment if frogs were exactly the same. A p-value below 0.01 is typically said to be \"statistically significant,\" but: warning! warning! warning! You have computed a p-value; it is a number. I encourage you not to distill it to a yes-or-no phrase. p = 0.006 and p = 0.000000006 are both said to be \"statistically significant,\" but they are definitely not the same!"
      ],
      "metadata": {
        "id": "0tasikJ5QcR-"
      }
    },
    {
      "cell_type": "markdown",
      "source": [
        ""
      ],
      "metadata": {
        "id": "HVGFLdiVXqdK"
      }
    },
    {
      "cell_type": "markdown",
      "source": [
        "## A one-sample bootstrap hypothesis test\n",
        "Another juvenile frog was studied, Frog C, and you want to see if Frog B and Frog C have similar impact forces. Unfortunately, you do not have Frog C's impact forces available, but you know they have a mean of 0.55 N. Because you don't have the original data, you cannot do a permutation test, and you cannot assess the hypothesis that the forces from Frog B and Frog C come from the same distribution. You will therefore test another, less restrictive hypothesis: The mean strike force of Frog B is equal to that of Frog C.\n",
        "\n",
        "To set up the bootstrap hypothesis test, you will take the mean as our test statistic. Remember, your goal is to calculate the probability of getting a mean impact force less than or equal to what was observed for Frog B if the hypothesis that the true mean of Frog B's impact forces is equal to that of Frog C is true. You first translate all of the data of Frog B such that the mean is 0.55 N. This involves adding the mean force of Frog C and subtracting the mean force of Frog B from each measurement of Frog B. This leaves other properties of Frog B's distribution, such as the variance, unchanged.\n"
      ],
      "metadata": {
        "id": "9eT_WigHXk38"
      }
    },
    {
      "cell_type": "code",
      "source": [
        "force_b.mean()"
      ],
      "metadata": {
        "colab": {
          "base_uri": "https://localhost:8080/"
        },
        "id": "7kbSQ6-5XrJp",
        "outputId": "c81621e2-1acb-44a7-9783-320ed2bbb643"
      },
      "execution_count": 16,
      "outputs": [
        {
          "output_type": "execute_result",
          "data": {
            "text/plain": [
              "0.4191000000000001"
            ]
          },
          "metadata": {},
          "execution_count": 16
        }
      ]
    },
    {
      "cell_type": "code",
      "source": [
        "x,y = ecdf(force_b)"
      ],
      "metadata": {
        "id": "d-bgp-oVYZQh"
      },
      "execution_count": 17,
      "outputs": []
    },
    {
      "cell_type": "code",
      "source": [
        "sns.scatterplot(x,y)"
      ],
      "metadata": {
        "colab": {
          "base_uri": "https://localhost:8080/",
          "height": 337
        },
        "id": "_rVwduH1YhqH",
        "outputId": "9106f700-d385-4462-e488-a680a34255a3"
      },
      "execution_count": 18,
      "outputs": [
        {
          "output_type": "stream",
          "name": "stderr",
          "text": [
            "/usr/local/lib/python3.7/dist-packages/seaborn/_decorators.py:43: FutureWarning: Pass the following variables as keyword args: x, y. From version 0.12, the only valid positional argument will be `data`, and passing other arguments without an explicit keyword will result in an error or misinterpretation.\n",
            "  FutureWarning\n"
          ]
        },
        {
          "output_type": "execute_result",
          "data": {
            "text/plain": [
              "<matplotlib.axes._subplots.AxesSubplot at 0x7fc53e0b6b10>"
            ]
          },
          "metadata": {},
          "execution_count": 18
        },
        {
          "output_type": "display_data",
          "data": {
            "text/plain": [
              "<Figure size 432x288 with 1 Axes>"
            ],
            "image/png": "[encoded data removed]"
          },
          "metadata": {
            "needs_background": "light"
          }
        }
      ]
    },
    {
      "cell_type": "markdown",
      "source": [
        "Modify force_b with mean of frog C, to simulate real condition"
      ],
      "metadata": {
        "id": "gl0tLUfJY8Sq"
      }
    },
    {
      "cell_type": "code",
      "source": [
        "translated_force_b = force_b - np.mean(force_b) + 0.55\n",
        "translated_force_b"
      ],
      "metadata": {
        "colab": {
          "base_uri": "https://localhost:8080/"
        },
        "id": "kGibngC0Z3og",
        "outputId": "f95cc32c-17f5-40c4-81e6-0b22079ed83f"
      },
      "execution_count": 19,
      "outputs": [
        {
          "output_type": "execute_result",
          "data": {
            "text/plain": [
              "array([0.3029, 0.2729, 0.1679, 0.5839, 0.4859, 0.1529, 0.6329, 0.4039,\n",
              "       0.8509, 0.7129, 0.3289, 0.3289, 0.7279, 0.6469, 0.9459, 0.5329,\n",
              "       0.7359, 0.8419, 0.7449, 0.5989])"
            ]
          },
          "metadata": {},
          "execution_count": 19
        }
      ]
    },
    {
      "cell_type": "code",
      "source": [
        "x_t,y_t = ecdf(translated_force_b)"
      ],
      "metadata": {
        "id": "VPnjeKpTaGBd"
      },
      "execution_count": 20,
      "outputs": []
    },
    {
      "cell_type": "code",
      "source": [
        "_ = sns.scatterplot(x,y)\n",
        "_ = sns.scatterplot(x_t,y_t,color='red')\n"
      ],
      "metadata": {
        "colab": {
          "base_uri": "https://localhost:8080/",
          "height": 354
        },
        "id": "FcS9mN3taD83",
        "outputId": "b9df215c-8ece-4233-e112-51561e86b519"
      },
      "execution_count": 21,
      "outputs": [
        {
          "output_type": "stream",
          "name": "stderr",
          "text": [
            "/usr/local/lib/python3.7/dist-packages/seaborn/_decorators.py:43: FutureWarning: Pass the following variables as keyword args: x, y. From version 0.12, the only valid positional argument will be `data`, and passing other arguments without an explicit keyword will result in an error or misinterpretation.\n",
            "  FutureWarning\n",
            "/usr/local/lib/python3.7/dist-packages/seaborn/_decorators.py:43: FutureWarning: Pass the following variables as keyword args: x, y. From version 0.12, the only valid positional argument will be `data`, and passing other arguments without an explicit keyword will result in an error or misinterpretation.\n",
            "  FutureWarning\n"
          ]
        },
        {
          "output_type": "display_data",
          "data": {
            "text/plain": [
              "<Figure size 432x288 with 1 Axes>"
            ],
            "image/png": "[encoded data removed]"
          },
          "metadata": {
            "needs_background": "light"
          }
        }
      ]
    },
    {
      "cell_type": "markdown",
      "source": [
        "## A two-sample bootstrap hypothesis test for difference of means\n",
        "\n",
        "We now want to test the hypothesis that Frog A and Frog B have the same mean impact force, but not necessarily the same distribution, which is also impossible with a permutation test.\n"
      ],
      "metadata": {
        "id": "Zcovm9OtVlRy"
      }
    },
    {
      "cell_type": "code",
      "source": [
        "def bootstrap_replicate_1d(data, func):\n",
        "\n",
        "  \"\"\"Generate bootstrap replicate of 1D data.\"\"\"\n",
        "\n",
        "  bs_sample = np.random.choice(data, len(data))\n",
        "  return func(bs_sample)\n"
      ],
      "metadata": {
        "id": "GaCEFXJzNIpU"
      },
      "execution_count": 22,
      "outputs": []
    },
    {
      "cell_type": "code",
      "source": [
        "def draw_bs_reps(data, func, size=1):\n",
        "    \"\"\"Draw bootstrap replicates.\"\"\"\n",
        "\n",
        "    # Initialize array of replicates: bs_replicates\n",
        "    bs_replicates = np.empty(size)\n",
        "\n",
        "    # Generate replicates\n",
        "    for i in range(size):\n",
        "        bs_replicates[i] = bootstrap_replicate_1d(data=data,func=func)\n",
        "\n",
        "    return bs_replicates"
      ],
      "metadata": {
        "id": "7aNjHKmXLnmZ"
      },
      "execution_count": 23,
      "outputs": []
    },
    {
      "cell_type": "code",
      "source": [
        "# Make an array of translated impact forces: translated_force_b\n",
        "translated_force_b = force_b - np.mean(force_b) + 0.55 # Fixing the drift in mean\n",
        "\n",
        "# Take bootstrap replicates of Frog B's translated impact forces: bs_replicates\n",
        "bs_replicates = draw_bs_reps(translated_force_b, np.mean, 10000)\n",
        "\n",
        "# Compute fraction of replicates that are less than the observed Frog B force: p\n",
        "p = np.sum(bs_replicates <= np.mean(force_b)) / 10000\n",
        "\n",
        "# Print the p-value\n",
        "print('p = ', p )"
      ],
      "metadata": {
        "id": "wYTSijFncP5R",
        "colab": {
          "base_uri": "https://localhost:8080/"
        },
        "outputId": "2f13b62b-677f-4c9f-ad4b-469232a032eb"
      },
      "execution_count": 24,
      "outputs": [
        {
          "output_type": "stream",
          "name": "stdout",
          "text": [
            "p =  0.0064\n"
          ]
        }
      ]
    },
    {
      "cell_type": "markdown",
      "source": [
        "## Classes\n",
        "\n",
        "Some classes to optimize tests"
      ],
      "metadata": {
        "id": "IVXLVEMFPLgj"
      }
    },
    {
      "cell_type": "code",
      "source": [
        "#Function Two-Sample\n",
        "\n",
        "class permut_two_sample_p_test:\n",
        "\n",
        "  \"\"\"\n",
        "  Non-parametric - We are not assuming any underlying distribution.\n",
        "\n",
        "  Because you have the two samples you will perform and permutation test , \n",
        "  and assess the hypothesis that for example: \"the forces from Frog B and Frog C come from the same distribution.\"\n",
        "\n",
        "  1 - Ho - Define the null hypothesis, example the distribution scores in rj are the same as sp\n",
        "\n",
        "  2 - Define test statistics that will be performed, example: np.mean(rj_scores)-np.mean(sp_scores)\n",
        "\n",
        "  3 - Many times of simulating data assuming the null hypothesis is true. For one-sample bootstraping and for two-sample permuting data\n",
        "\n",
        "  4 - Compute test statistics for simulated data sets.\n",
        "\n",
        "  5 - p value - % of times that observed test statistics are inside simulated test statistics array.   Less p-values higher statistical difference between\n",
        "  arrays\n",
        "\n",
        "  ### Args\n",
        "\n",
        "  data_1, data_2 - datas to test\n",
        "\n",
        "  func - test statistics, to create null hypothesis, example np.mean(rj_scores)-np.mean(sp_scores)\n",
        "\n",
        "  size - 1000 by standard. How many times the simulated test statistics will be made. \n",
        "  \n",
        "  \"\"\"\n",
        "\n",
        "  def __init__(self, data_1, data_2, func, size=1000, plot = True):\n",
        "\n",
        "    self.data_1 = data_1\n",
        "    self.data_2 = data_2\n",
        "    self.func = func\n",
        "    self.size = size\n",
        "    self.plot = plot\n",
        "    self.empirical_diff_means = self.func(self.data_1, self.data_2)\n",
        "\n",
        "  #def ecdf(self):\n",
        "    \n",
        "\n",
        "  def permutation_sample(self):\n",
        "      \"\"\"Generate a permutation sample from two data sets.\"\"\"\n",
        "\n",
        "      # Concatenate the data sets: data\n",
        "      data = np.concatenate((self.data_1,self.data_2))\n",
        "\n",
        "      # Permute the concatenated array: permuted_data\n",
        "      permuted_data = np.random.permutation(data)\n",
        "\n",
        "      # Split the permuted array into two: perm_sample_1, perm_sample_2\n",
        "      perm_sample_1 = permuted_data[:len(self.data_1)]\n",
        "      perm_sample_2 = permuted_data[len(self.data_1):]\n",
        "\n",
        "      return perm_sample_1, perm_sample_2\n",
        "\n",
        "  def draw_perm_reps(self):\n",
        "    \"\"\"Generate multiple permutation replicates.\"\"\"\n",
        "\n",
        "    # Initialize array of replicates: perm_replicates\n",
        "    perm_replicates = np.empty(self.size)\n",
        "\n",
        "    for i in range(self.size):\n",
        "        # Generate permutation sample\n",
        "        perm_sample_1, perm_sample_2 = self.permutation_sample()\n",
        "\n",
        "        # Compute the test statistic\n",
        "        perm_replicates[i] = self.func(perm_sample_1, perm_sample_2)\n",
        "\n",
        "    return perm_replicates\n",
        "\n",
        "  def p_value(self):\n",
        "\n",
        "    self.perm_replicates = self.draw_perm_reps()\n",
        "\n",
        "    p_value = np.sum(self.perm_replicates >= self.empirical_diff_means) / len(self.perm_replicates)\n",
        "\n",
        "    if self.plot == True:\n",
        "      _ = sns.histplot(self.perm_replicates)\n",
        "      _= plt.axvline(self.empirical_diff_means, color='red', linestyle='dashed', linewidth=1)\n",
        "      plt.show()\n",
        "\n",
        "    return print('p = ', p_value )"
      ],
      "metadata": {
        "id": "932wVVwivL7O"
      },
      "execution_count": 99,
      "outputs": []
    },
    {
      "cell_type": "markdown",
      "source": [
        "Example using two_sample_p_test"
      ],
      "metadata": {
        "id": "F6fjZryfPaVb"
      }
    },
    {
      "cell_type": "code",
      "source": [
        "permut_two_sample_p_test(force_a, force_b,size=100000,func=diff_of_means).p_value()"
      ],
      "metadata": {
        "colab": {
          "base_uri": "https://localhost:8080/",
          "height": 282
        },
        "id": "dx5b5IFEw4Qa",
        "outputId": "7f3a11cf-8722-4c93-cf05-b3ce1299f635"
      },
      "execution_count": 52,
      "outputs": [
        {
          "output_type": "display_data",
          "data": {
            "text/plain": [
              "<Figure size 432x288 with 1 Axes>"
            ],
            "image/png": "[encoded data removed]"
          },
          "metadata": {
            "needs_background": "light"
          }
        },
        {
          "output_type": "stream",
          "name": "stdout",
          "text": [
            "p =  0.00537\n"
          ]
        }
      ]
    },
    {
      "cell_type": "code",
      "source": [
        " #Choose the right statistics to test your data, in this case the difference between means \n",
        "  \n",
        "  def diff_of_means(data_1,data_2):\n",
        "    \"\"\"Difference in means of two arrays.\"\"\"\n",
        "\n",
        "    # The difference of means of data_1, data_2: diff\n",
        "    diff = np.mean(data_1)-np.mean(data_2)\n",
        "\n",
        "    return diff  "
      ],
      "metadata": {
        "id": "vb_QFrMK1ERU"
      },
      "execution_count": null,
      "outputs": []
    },
    {
      "cell_type": "code",
      "source": [
        "#Function Boostraping One-Sample P value\n",
        "\n",
        "class bs_one_sample_p_test:\n",
        "\n",
        "  \"\"\"\n",
        "  Non-parametric - We are not assuming any underlying distribution.\n",
        "\n",
        "  It will be used bootstraping once that we just have one of samples, so here we can just test the summary statistics, for example mean, median and etc...\n",
        "  At the end we could not say that they come from same distribution for example.\n",
        "\n",
        "  Replicate it's a summary statistics for some bootstraped array.\n",
        "\n",
        "  1 - Ho - Define the null hypothesis, example the mean scores in rj are the same as sp\n",
        "\n",
        "  2 - Define test statistics that will be performed, example: np.mean(rj_scores)-np.mean(sp_scores)\n",
        "\n",
        "  3 - Many times of simulating data assuming the null hypothesis is true. For one-sample bootstraping and for two-sample permuting data\n",
        "\n",
        "  4 - Compute test statistics for simulated data sets.\n",
        "\n",
        "  5 - p value - % of times that observed test statistics are inside simulated test statistics array.   Less p-values higher statistical difference between\n",
        "  arrays\n",
        "\n",
        "  ### Args\n",
        "\n",
        "  data_1 - should be and array, observed array values of frog B \n",
        "  \n",
        "  data_2 - should be an unique value, for example mean of frog C forces\n",
        "\n",
        "  func - test statistics, to create null hypothesis\n",
        "\n",
        "  size - how many times the simulated test statistics will be made.\n",
        "  \n",
        "  \"\"\"\n",
        "\n",
        "  def __init__(self,data_1,value_2,func=np.mean,size=10000,plot=True):\n",
        "\n",
        "    self.data_1 = data_1\n",
        "    self.value_2 = value_2\n",
        "    self.func = func\n",
        "    self.plot = plot\n",
        "    self.size = size\n",
        "\n",
        "\n",
        "  def translate_array(self):\n",
        "      \n",
        "    # Make an array of translated data_1 with same mean as value_2\n",
        "    translated_data_1_array = self.data_1 - np.mean(self.data_1) + np.mean(self.value_2) # Fixing the drift in mean\n",
        "    return translated_data_1_array\n",
        "\n",
        "  def bootstrap_replicate_1d(self):\n",
        "\n",
        "    \"\"\"Generate bootstrap replicate of 1D data.\"\"\"\n",
        "\n",
        "    bs_sample = np.random.choice(self.translate_array(), len(self.translate_array()))\n",
        "\n",
        "    return self.func(bs_sample)\n",
        "\n",
        "\n",
        "  def draw_bs_reps(self):\n",
        "    \"\"\"Draw array of bootstrap replicates.\"\"\"\n",
        "\n",
        "    # Initialize array of replicates: bs_replicates\n",
        "    bs_replicates = np.empty(self.size)\n",
        "\n",
        "    # Generate replicates\n",
        "    for i in range(self.size):\n",
        "        bs_replicates[i] = self.bootstrap_replicate_1d()\n",
        "\n",
        "    return bs_replicates\n",
        "  \n",
        "\n",
        "  def p_value(self):\n",
        "\n",
        "    bs_replicates = self.draw_bs_reps()\n",
        "\n",
        "    p_value = np.sum(bs_replicates <= self.func(self.data_1)) / self.size\n",
        "\n",
        "    if self.plot == True:\n",
        "      _ = sns.histplot(bs_replicates)\n",
        "      _= plt.axvline(self.func(self.data_1), color='red', linestyle='dashed', linewidth=1)\n",
        "      plt.show()\n",
        "\n",
        "    return print('p = ', p_value)"
      ],
      "metadata": {
        "id": "nBGwUKE44rd2"
      },
      "execution_count": 132,
      "outputs": []
    },
    {
      "cell_type": "code",
      "source": [
        "bs_one_sample_p_test(force_b,force_c).p_value()"
      ],
      "metadata": {
        "colab": {
          "base_uri": "https://localhost:8080/",
          "height": 282
        },
        "id": "M2zfb1UbRJPZ",
        "outputId": "12520702-361c-48c8-9810-9d931d98a4aa"
      },
      "execution_count": 133,
      "outputs": [
        {
          "output_type": "display_data",
          "data": {
            "text/plain": [
              "<Figure size 432x288 with 1 Axes>"
            ],
            "image/png": "[encoded data removed]"
          },
          "metadata": {
            "needs_background": "light"
          }
        },
        {
          "output_type": "stream",
          "name": "stdout",
          "text": [
            "p =  0.0053\n"
          ]
        }
      ]
    },
    {
      "cell_type": "code",
      "source": [
        "#Function Boostraping Two-Sample P value\n",
        "\n",
        "class bs_two_sample_p_test:\n",
        "\n",
        "  \"\"\"\n",
        "  Non-parametric - We are not assuming any underlying distribution.\n",
        "\n",
        "  We will use bootstrap so here we can just test the summary statistics, for example mean, median and etc...\n",
        "  At the end we could not say that they come from same distribution for example.\n",
        "\n",
        "  Replicate it's a summary statistics for some bootstraped array.\n",
        "\n",
        "  1 - Ho - Define the null hypothesis, example the mean scores in rj are the same as sp\n",
        "\n",
        "  2 - Define test statistics that will be performed, example: np.mean(rj_scores)-np.mean(sp_scores)\n",
        "\n",
        "  3 - Many times of simulating data assuming the null hypothesis is true. For one-sample bootstraping and for two-sample permuting data\n",
        "\n",
        "  4 - Compute test statistics for simulated data sets.\n",
        "\n",
        "  5 - p value - % of times that observed test statistics are inside simulated test statistics array.   Less p-values higher statistical difference between\n",
        "  arrays\n",
        "\n",
        "  ### Args\n",
        "\n",
        "  data_1 - should be and array, observed array values of frog B \n",
        "  \n",
        "  data_2 - should be an unique value, for example mean of frog C forces\n",
        "\n",
        "  func - test statistics, to create null hypothesis\n",
        "\n",
        "  size - how many times the simulated test statistics will be made.\n",
        "  \n",
        "  \"\"\"\n",
        "\n",
        "  def __init__(self,data_1,data_2,func=np.mean,size=10000,plot=True):\n",
        "\n",
        "    self.data_1 = data_1\n",
        "    self.data_2 = data_2\n",
        "    self.func = func\n",
        "    self.size = size\n",
        "    self.plot = plot\n",
        "    self.overall_mean = self.func(np.concatenate((data_1,data_2)))\n",
        "\n",
        "\n",
        "  def translate_array(self):\n",
        "      \n",
        "    # Shifiting arrays data_1 and data_2 to represent overall mean\n",
        "    translated_data_1_array = self.data_1 - np.mean(self.data_1) + self.overall_mean # Fixing the drift in mean\n",
        "    translated_data_2_array = self.data_2 - np.mean(self.data_2) + self.overall_mean # Fixing the drift in mean\n",
        "\n",
        "    return translated_data_1_array,translated_data_2_array\n",
        "\n",
        "  def bootstrap_replicate_1d(self):\n",
        "\n",
        "    \"\"\"Generate bootstrap replicate of 1D data.\"\"\"\n",
        "\n",
        "    bs_sample_1 = np.random.choice(self.translate_array()[0], len(self.translate_array()[0]))\n",
        "    bs_sample_2 = np.random.choice(self.translate_array()[1], len(self.translate_array()[1]))\n",
        "\n",
        "    return self.func(bs_sample_1),self.func(bs_sample_2)\n",
        "\n",
        "\n",
        "  def draw_bs_reps(self):\n",
        "    \"\"\"Draw array of bootstrap replicates.\"\"\"\n",
        "\n",
        "    # Initialize array of replicates: bs_replicates\n",
        "    bs_replicates_1 = np.empty(self.size)\n",
        "    bs_replicates_2 = np.empty(self.size)\n",
        "\n",
        "    # Generate replicates\n",
        "    for i in range(self.size):\n",
        "        bs_replicates_1[i] = self.bootstrap_replicate_1d()[0]\n",
        "        bs_replicates_2[i] = self.bootstrap_replicate_1d()[1]\n",
        "\n",
        "    # Get replicates of difference of means: bs_replicates\n",
        "    bs_replicates = bs_replicates_1 - bs_replicates_2\n",
        "\n",
        "    return bs_replicates\n",
        "  \n",
        "\n",
        "  def p_value(self):\n",
        "\n",
        "    bs_replicates = self.draw_bs_reps()\n",
        "\n",
        "    mean_diffs = (np.mean(self.data_1)-np.mean(self.data_2))\n",
        "\n",
        "    p_value = np.sum(bs_replicates >= mean_diffs) / self.size\n",
        "\n",
        "    if self.plot == True:\n",
        "      _ = sns.histplot(bs_replicates)\n",
        "      _= plt.axvline(mean_diffs, color='red', linestyle='dashed', linewidth=1)\n",
        "      plt.show()\n",
        "\n",
        "    return print('p = ', p_value)"
      ],
      "metadata": {
        "id": "6o3KGFLmV9nL"
      },
      "execution_count": 128,
      "outputs": []
    },
    {
      "cell_type": "code",
      "source": [
        "bs_two_sample_p_test(force_a,force_b).p_value()"
      ],
      "metadata": {
        "colab": {
          "base_uri": "https://localhost:8080/",
          "height": 282
        },
        "id": "-Zp9os-RYY7E",
        "outputId": "e11751a3-23e0-4afd-8faf-0f4a26e6e4a3"
      },
      "execution_count": 129,
      "outputs": [
        {
          "output_type": "display_data",
          "data": {
            "text/plain": [
              "<Figure size 432x288 with 1 Axes>"
            ],
            "image/png": "[encoded data removed]"
          },
          "metadata": {
            "needs_background": "light"
          }
        },
        {
          "output_type": "stream",
          "name": "stdout",
          "text": [
            "p =  0.0048\n"
          ]
        }
      ]
    }
  ]
}