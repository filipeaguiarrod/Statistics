{
  "nbformat": 4,
  "nbformat_minor": 0,
  "metadata": {
    "colab": {
      "provenance": [],
      "collapsed_sections": [
        "Hd54dpXWkrGw",
        "TV_o3fknyjvK",
        "HNaH84aZ__cT"
      ],
      "toc_visible": true,
      "authorship_tag": "ABX9TyMEXIPgpwrLg+pALMCc/oJQ",
      "include_colab_link": true
    },
    "kernelspec": {
      "name": "python3",
      "display_name": "Python 3"
    }
  },
  "cells": [
    {
      "cell_type": "markdown",
      "metadata": {
        "id": "view-in-github",
        "colab_type": "text"
      },
      "source": [
        "<a href=\"https://colab.research.google.com/github/filipeaguiarrod/Statistics/blob/main/Practical_case/Hypothesis_Tests.ipynb\" target=\"_parent\"><img src=\"https://colab.research.google.com/assets/colab-badge.svg\" alt=\"Open In Colab\"/></a>"
      ]
    },
    {
      "cell_type": "markdown",
      "source": [
        "## Libraries"
      ],
      "metadata": {
        "id": "41mlS2sTkAVO"
      }
    },
    {
      "cell_type": "code",
      "source": [
        "import numpy as np\n",
        "import matplotlib.pyplot as plt\n",
        "import seaborn as sns"
      ],
      "metadata": {
        "id": "hzMRqBLz18wL"
      },
      "execution_count": 2,
      "outputs": []
    },
    {
      "cell_type": "code",
      "source": [
        "def ecdf(a):\n",
        "  x = np.sort(a)\n",
        "  y = np.arange(len(x))/float(len(x))\n",
        "  return x,y"
      ],
      "metadata": {
        "id": "CHPxqwD52kaq"
      },
      "execution_count": 3,
      "outputs": []
    },
    {
      "cell_type": "markdown",
      "source": [
        "# Hypothesis Tests\n",
        "\n",
        "Assessment of how reasonable the observed data are\n",
        "assuming a hypothesis is true\n",
        "\n",
        "- Ho = Summary Statistics are the same / Distributions are the same\n",
        "- Ha = \"\"\" are not the same "
      ],
      "metadata": {
        "id": "Hd54dpXWkrGw"
      }
    },
    {
      "cell_type": "markdown",
      "source": [
        "![image.png](data:image/png;base64,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)"
      ],
      "metadata": {
        "id": "keEQkfCakw-W"
      }
    },
    {
      "cell_type": "markdown",
      "source": [
        "## Permutation (Embaralhar)\n",
        "\n",
        "In the video, you learned that permutation sampling is a great way to simulate the hypothesis that two variables have identical probability distributions."
      ],
      "metadata": {
        "id": "TV_o3fknyjvK"
      }
    },
    {
      "cell_type": "code",
      "source": [
        "def permutation_sample(data1, data2):\n",
        "    \"\"\"Generate a permutation sample from two data sets.\"\"\"\n",
        "\n",
        "    # Concatenate the data sets: data\n",
        "    data = np.concatenate((data1,data2))\n",
        "\n",
        "    # Permute the concatenated array: permuted_data\n",
        "    permuted_data = np.random.permutation(data)\n",
        "\n",
        "    # Split the permuted array into two: perm_sample_1, perm_sample_2\n",
        "    perm_sample_1 = permuted_data[:len(data1)]\n",
        "    perm_sample_2 = permuted_data[len(data1):]\n",
        "\n",
        "    return perm_sample_1, perm_sample_2"
      ],
      "metadata": {
        "id": "XzuPvdLQhlku"
      },
      "execution_count": 4,
      "outputs": []
    },
    {
      "cell_type": "markdown",
      "source": [
        "Example of Hypothesis Test: The rain distributions are the same in  June and November. How to test it ? "
      ],
      "metadata": {
        "id": "Wctosldz1WQd"
      }
    },
    {
      "cell_type": "code",
      "source": [
        "rain_june = np.array([ 66.2,  39.7,  76.4,  26.5,  11.2,  61.8,   6.1,  48.4,  89.2,\n",
        "       104. ,  34. ,  60.6,  57.1,  79.1,  90.9,  32.3,  63.8,  78.2,\n",
        "        27.5,  43.4,  30.1,  17.3,  77.5,  44.9,  92.2,  39.6,  79.4,\n",
        "        66.1,  53.5,  98.5,  20.8,  55.5,  39.6,  56. ,  65.1,  14.8,\n",
        "        13.2,  88.1,   8.4,  32.1,  19.6,  40.4,   2.2,  77.5, 105.4,\n",
        "        77.2,  38. ,  27.1, 111.8,  17.2,  26.7,  23.3,  77.2,  87.2,\n",
        "        27.7,  50.6,  60.3,  15.1,   6. ,  29.4,  39.3,  56.3,  80.4,\n",
        "        85.3,  68.4,  72.5,  13.3,  28.4,  14.7,  37.4,  49.5,  57.2,\n",
        "        85.9,  82.1,  31.8, 126.6,  30.7,  41.4,  33.9,  13.5,  99.1,\n",
        "        70.2,  91.8,  61.3,  13.7,  54.9,  62.5,  24.2,  69.4,  83.1,\n",
        "        44. ,  48.5,  11.9,  16.6,  66.4,  90. ,  34.9, 132.8,  33.4,\n",
        "       225. ,   7.6,  40.9,  76.5,  48. , 140. ,  55.9,  54.1,  46.4,\n",
        "        68.6,  52.2, 108.3,  14.6,  11.3,  29.8, 130.9, 152.4,  61. ,\n",
        "        46.6,  43.9,  30.9, 111.1,  68.5,  42.2,   9.8, 285.6,  56.7,\n",
        "       168.2,  41.2,  47.8, 166.6,  37.8,  45.4,  43.2])\n",
        "\n",
        "rain_november = np.array([ 83.6,  30.9,  62.2,  37. ,  41. , 160.2,  18.2, 122.4,  71.3,\n",
        "        44.2,  49.1,  37.6, 114.5,  28.8,  82.5,  71.9,  50.7,  67.7,\n",
        "       112. ,  63.6,  42.8,  57.2,  99.1,  86.4,  84.4,  38.1,  17.7,\n",
        "       102.2, 101.3,  58. ,  82. , 101.4,  81.4, 100.1,  54.6,  39.6,\n",
        "        57.5,  29.2,  48.8,  37.3, 115.4,  55.6,  62. ,  95. ,  84.2,\n",
        "       118.1, 153.2,  83.4, 104.7,  59. ,  46.4,  50. , 147.6,  76.8,\n",
        "        59.9, 101.8, 136.6, 173. ,  92.5,  37. ,  59.8, 142.1,   9.9,\n",
        "       158.2,  72.6,  28. , 112.9, 119.3, 199.2,  50.7,  44. , 170.7,\n",
        "        67.2,  21.4,  61.3,  15.6, 106. , 116.2,  42.3,  38.5, 132.5,\n",
        "        40.8, 147.5,  93.9,  71.4,  87.3, 163.7, 141.4,  62.6,  84.9,\n",
        "        28.8, 121.1,  28.6,  32.4, 112. ,  50. ,  96.9,  81.8,  70.4,\n",
        "       117.5,  41.2, 124.9,  78.2,  93. ,  53.5,  50.5,  42.6,  47.9,\n",
        "        73.1, 129.1,  56.9, 103.3,  60.5, 134.3,  93.1,  49.5,  48.2,\n",
        "       167.9,  27. , 111.1,  55.4,  36.2,  57.4,  66.8,  58.3,  60. ,\n",
        "       161.6, 112.7,  37.4, 110.6,  56.6,  95.8, 126.8])"
      ],
      "metadata": {
        "id": "c8U5_mmx1l0D"
      },
      "execution_count": 5,
      "outputs": []
    },
    {
      "cell_type": "code",
      "source": [
        "for i in range(50):\n",
        "    # Generate permutation samples\n",
        "    perm_sample_1, perm_sample_2 = permutation_sample(rain_june,rain_november)\n",
        "\n",
        "\n",
        "    # Compute ECDFs\n",
        "    x_1, y_1 = ecdf(perm_sample_1)\n",
        "    x_2, y_2 = ecdf(perm_sample_2)\n",
        "\n",
        "    # Plot ECDFs of permutation sample\n",
        "    _ = plt.plot(x_1, y_1, marker='.', linestyle='none',\n",
        "                 color='red', alpha=0.02)\n",
        "    _ = plt.plot(x_2, y_2, marker='.', linestyle='none',\n",
        "                 color='blue', alpha=0.02)\n",
        "\n",
        "# Create and plot ECDFs from original data\n",
        "x_1, y_1 = ecdf(rain_june)\n",
        "x_2, y_2 = ecdf(rain_november)\n",
        "_ = plt.plot(x_1, y_1, marker='.', linestyle='none', color='red')\n",
        "_ = plt.plot(x_2, y_2, marker='.', linestyle='none', color='blue')\n",
        "\n",
        "# Label axes, set margin, and show plot\n",
        "plt.margins(0.02)\n",
        "_ = plt.xlabel('monthly rainfall (mm)')\n",
        "_ = plt.ylabel('ECDF')\n",
        "plt.show()"
      ],
      "metadata": {
        "colab": {
          "base_uri": "https://localhost:8080/",
          "height": 0
        },
        "id": "ditOX_Ru2Bd-",
        "outputId": "611cabee-b741-41d1-ed2d-e79f301b9040"
      },
      "execution_count": 6,
      "outputs": [
        {
          "output_type": "display_data",
          "data": {
            "text/plain": [
              "<Figure size 432x288 with 1 Axes>"
            ],
            "image/png": "[encoded data removed]"
          },
          "metadata": {
            "needs_background": "light"
          }
        }
      ]
    },
    {
      "cell_type": "markdown",
      "source": [
        "# Generating Permutation Replicates"
      ],
      "metadata": {
        "id": "p33WKyhlIKuZ"
      }
    },
    {
      "cell_type": "code",
      "source": [
        "def draw_perm_reps(data_1, data_2, func, size=1):\n",
        "    \"\"\"Generate multiple permutation replicates.\"\"\"\n",
        "\n",
        "    # Initialize array of replicates: perm_replicates\n",
        "    perm_replicates = np.empty(size)\n",
        "\n",
        "    for i in range(size):\n",
        "        # Generate permutation sample\n",
        "        perm_sample_1, perm_sample_2 = permutation_sample(data_1,data_2)\n",
        "\n",
        "        # Compute the test statistic\n",
        "        perm_replicates[i] = func(perm_sample_1, perm_sample_2)\n",
        "\n",
        "    return perm_replicates"
      ],
      "metadata": {
        "id": "Gp8bEoxBIAKJ"
      },
      "execution_count": 7,
      "outputs": []
    },
    {
      "cell_type": "markdown",
      "source": [
        "### Testing function permuting and permuting replicates"
      ],
      "metadata": {
        "id": "2mx45q_fJntj"
      }
    },
    {
      "cell_type": "code",
      "source": [
        "ar_1 = np.arange(0,10)\n",
        "ar_2= np.arange(0,15)"
      ],
      "metadata": {
        "id": "ai_A2McFJYMA"
      },
      "execution_count": 8,
      "outputs": []
    },
    {
      "cell_type": "code",
      "source": [
        "permutation_sample(ar_1,ar_2)"
      ],
      "metadata": {
        "colab": {
          "base_uri": "https://localhost:8080/"
        },
        "id": "m0_VKv7JKKtC",
        "outputId": "2d95521e-215c-41f6-fc5b-29ad5521005d"
      },
      "execution_count": 9,
      "outputs": [
        {
          "output_type": "execute_result",
          "data": {
            "text/plain": [
              "(array([ 1,  9,  5,  8,  3, 13, 14,  1,  4,  3]),\n",
              " array([12,  4,  2,  0,  7,  7, 10, 11,  6,  8,  6,  2,  0,  5,  9]))"
            ]
          },
          "metadata": {},
          "execution_count": 9
        }
      ]
    },
    {
      "cell_type": "markdown",
      "source": [
        "## Hypothesis test examples with Frog data"
      ],
      "metadata": {
        "id": "5Q67bUv4CbJh"
      }
    },
    {
      "cell_type": "code",
      "source": [
        "#Example Frog:\n",
        "# Frog Tongue's force \n",
        "\n",
        "force_a = np.array([1.612, 0.605, 0.327, 0.946, 0.541, 1.539, 0.529, 0.628, 1.453,\n",
        "       0.297, 0.703, 0.269, 0.751, 0.245, 1.182, 0.515, 0.435, 0.383,\n",
        "       0.457, 0.73 ])\n",
        "force_b = np.array([0.172, 0.142, 0.037, 0.453, 0.355, 0.022, 0.502, 0.273, 0.72 ,\n",
        "       0.582, 0.198, 0.198, 0.597, 0.516, 0.815, 0.402, 0.605, 0.711,\n",
        "       0.614, 0.468])\n",
        "force_c = 0.55"
      ],
      "metadata": {
        "id": "BVV5R-eCML3c"
      },
      "execution_count": 10,
      "outputs": []
    },
    {
      "cell_type": "markdown",
      "source": [
        "### Permuation - Two Samples\n",
        "\n",
        "Ho - The forces distribution for frog A and frog B are the same"
      ],
      "metadata": {
        "id": "72HKv_eTCsY-"
      }
    },
    {
      "cell_type": "code",
      "source": [
        "np.mean(force_a)-np.mean(force_b)"
      ],
      "metadata": {
        "colab": {
          "base_uri": "https://localhost:8080/"
        },
        "id": "JrdM470ON5GD",
        "outputId": "82734b1e-19db-46c7-8e3a-01280f784765"
      },
      "execution_count": 11,
      "outputs": [
        {
          "output_type": "execute_result",
          "data": {
            "text/plain": [
              "0.28825000000000006"
            ]
          },
          "metadata": {},
          "execution_count": 11
        }
      ]
    },
    {
      "cell_type": "code",
      "source": [
        "x_1,y_1 = ecdf(force_a)\n",
        "x_2,y_2 = ecdf(force_b) "
      ],
      "metadata": {
        "id": "6aaK6uLLKjrm"
      },
      "execution_count": 12,
      "outputs": []
    },
    {
      "cell_type": "code",
      "source": [
        "_ = plt.plot(x_1, y_1, marker='.', linestyle='none', color='red')\n",
        "_ = plt.plot(x_2, y_2, marker='.', linestyle='none', color='blue')\n",
        "\n",
        "# Label axes, set margin, and show plot\n",
        "plt.margins(0.02)\n",
        "_ = plt.xlabel('frogs forces (N)')\n",
        "_ = plt.ylabel('ECDF')\n",
        "plt.show()"
      ],
      "metadata": {
        "colab": {
          "base_uri": "https://localhost:8080/",
          "height": 279
        },
        "id": "ubIp8mDsKiA2",
        "outputId": "2319f1f8-08fd-47ba-86a3-d80c02da767f"
      },
      "execution_count": 13,
      "outputs": [
        {
          "output_type": "display_data",
          "data": {
            "text/plain": [
              "<Figure size 432x288 with 1 Axes>"
            ],
            "image/png": "[encoded data removed]"
          },
          "metadata": {
            "needs_background": "light"
          }
        }
      ]
    },
    {
      "cell_type": "code",
      "source": [
        "def diff_of_means(data_1, data_2):\n",
        "    \"\"\"Difference in means of two arrays.\"\"\"\n",
        "\n",
        "    # The difference of means of data_1, data_2: diff\n",
        "    diff = np.mean(data_1)-np.mean(data_2)\n",
        "\n",
        "    return diff\n",
        "\n",
        "# Compute difference of mean impact force from experiment: empirical_diff_means\n",
        "empirical_diff_means = np.mean(force_a)-np.mean(force_b) #Baseline\n",
        "\n",
        "# Draw 10,000 permutation replicates: perm_replicates\n",
        "perm_replicates = draw_perm_reps(force_a, force_b,\n",
        "                                 func=diff_of_means, size=10000)"
      ],
      "metadata": {
        "id": "p98zyLnyOJnE"
      },
      "execution_count": 14,
      "outputs": []
    },
    {
      "cell_type": "code",
      "source": [
        "# Compute p-value: p\n",
        "p = np.sum(perm_replicates >= empirical_diff_means) / len(perm_replicates)\n",
        "\n",
        "# Print the result\n",
        "print('p-value =', p)"
      ],
      "metadata": {
        "colab": {
          "base_uri": "https://localhost:8080/"
        },
        "id": "lGy1XD4vQH4C",
        "outputId": "397283b8-e611-4326-b4e2-d54b66597b29"
      },
      "execution_count": 15,
      "outputs": [
        {
          "output_type": "stream",
          "name": "stdout",
          "text": [
            "p-value = 0.0047\n"
          ]
        }
      ]
    },
    {
      "cell_type": "code",
      "source": [
        "_ = sns.histplot(perm_replicates)\n",
        "_= plt.axvline(empirical_diff_means, color='red', linestyle='dashed', linewidth=1)\n",
        "plt.show()"
      ],
      "metadata": {
        "colab": {
          "base_uri": "https://localhost:8080/",
          "height": 265
        },
        "id": "Am3tABwcQjug",
        "outputId": "b8869828-7392-492d-c1fb-aaa4abb9458f"
      },
      "execution_count": 16,
      "outputs": [
        {
          "output_type": "display_data",
          "data": {
            "text/plain": [
              "<Figure size 432x288 with 1 Axes>"
            ],
            "image/png": "[encoded data removed]"
          },
          "metadata": {
            "needs_background": "light"
          }
        }
      ]
    },
    {
      "cell_type": "markdown",
      "source": [
        "'''FAzendo a permutação e as amostrar eu simulo que os sapos são iguais, dessa forma consigo um histograma mostrando possíveis diferenças (distribuição de diferenças) no \n",
        "caso simulado dos sapos iguais, quando ploto os grupos (baseline) observo que apenas 0.5% de chance dessa diferença pertencer a uma amostra com sapos iguais. \n",
        "POr isso quanto menor o p-valor, maior a chance de serem diferentes'''"
      ],
      "metadata": {
        "id": "HAy0QQ7-DMaQ"
      }
    },
    {
      "cell_type": "markdown",
      "source": [
        "The p-value tells you that there is about a 0.6% chance that you would get the difference of means observed in the experiment if frogs were exactly the same. A p-value below 0.01 is typically said to be \"statistically significant,\" but: warning! warning! warning! You have computed a p-value; it is a number. I encourage you not to distill it to a yes-or-no phrase. p = 0.006 and p = 0.000000006 are both said to be \"statistically significant,\" but they are definitely not the same!"
      ],
      "metadata": {
        "id": "0tasikJ5QcR-"
      }
    },
    {
      "cell_type": "markdown",
      "source": [
        "## A/B Test"
      ],
      "metadata": {
        "id": "wPFbLvQYAXZu"
      }
    },
    {
      "cell_type": "markdown",
      "source": [
        "The Civil Rights Act of 1964 was one of the most important pieces of legislation ever passed in the USA. Excluding \"present\" and \"abstain\" votes, 153 House Democrats and 136 Republicans voted yea. However, 91 Democrats and 35 Republicans voted nay. Did party affiliation make a difference in the vote?\n",
        "\n",
        "To answer this question, you will evaluate the hypothesis that the party of a House member has no bearing on his or her vote. You will use the fraction of Democrats voting in favor as your test statistic and evaluate the probability of observing a fraction of Democrats voting in favor at least as small as the observed fraction of 153/244. (That's right, at least as small as. In 1964, it was the Democrats who were less progressive on civil rights issues.) To do this, permute the party labels of the House voters and then arbitrarily divide them into \"Democrats\" and \"Republicans\" and compute the fraction of Democrats voting yea."
      ],
      "metadata": {
        "id": "a5JIRH9PAfcz"
      }
    },
    {
      "cell_type": "markdown",
      "source": [
        "![image.png](data:image/png;base64,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)"
      ],
      "metadata": {
        "id": "3RnXPWWZBJGA"
      }
    },
    {
      "cell_type": "code",
      "source": [
        "def diff_frac(data_a,data_b):\n",
        "  \n",
        "    frac_a = np.sum(data_a) / len(data_a)\n",
        "    frac_b = np.sum(data_b)/ len(data_b)\n",
        "    \n",
        "    return frac_b-frac_a"
      ],
      "metadata": {
        "id": "lhu7x_m9BF6G"
      },
      "execution_count": 17,
      "outputs": []
    },
    {
      "cell_type": "code",
      "source": [
        "# Array com dados True e False\n",
        "\n",
        "dems = np.array([True] * 153 + [False] * 91)\n",
        "reps = np.array([True] * 136 + [False] * 35)"
      ],
      "metadata": {
        "id": "AE3B3FnIAaqQ"
      },
      "execution_count": 18,
      "outputs": []
    },
    {
      "cell_type": "code",
      "source": [
        "def frac_yea_dems(dems, reps):\n",
        "    \"\"\"Compute fraction of Democrat yea votes.\"\"\"\n",
        "    frac = sum(dems==True) / len(dems)\n",
        "    return frac\n",
        "\n",
        "# Acquire permutation samples: perm_replicates\n",
        "perm_replicates = draw_perm_reps(dems, reps, frac_yea_dems, size=10000)\n",
        "\n",
        "# Compute and print p-value: p\n",
        "p = np.sum(perm_replicates <= 153/244) / len(perm_replicates)\n",
        "print('p-value =', p)"
      ],
      "metadata": {
        "colab": {
          "base_uri": "https://localhost:8080/"
        },
        "id": "UpdBJv9mCA2v",
        "outputId": "c045b8f5-68d6-4391-8f53-9db69bc2c7bc"
      },
      "execution_count": 19,
      "outputs": [
        {
          "output_type": "stream",
          "name": "stdout",
          "text": [
            "p-value = 0.0\n"
          ]
        }
      ]
    },
    {
      "cell_type": "code",
      "source": [
        "diff_frac(dems, reps)"
      ],
      "metadata": {
        "colab": {
          "base_uri": "https://localhost:8080/"
        },
        "id": "7uXgenYaCuGJ",
        "outputId": "89da2e21-32d8-4ee2-adc7-b197121e135d"
      },
      "execution_count": 21,
      "outputs": [
        {
          "output_type": "execute_result",
          "data": {
            "text/plain": [
              "0.1682724570990317"
            ]
          },
          "metadata": {},
          "execution_count": 21
        }
      ]
    },
    {
      "cell_type": "code",
      "source": [
        "perm_replicates = draw_perm_reps(dems, reps, diff_frac, size=10000)"
      ],
      "metadata": {
        "id": "a-FBvUoJChT3"
      },
      "execution_count": 20,
      "outputs": []
    },
    {
      "cell_type": "markdown",
      "source": [
        "# Bootstrap"
      ],
      "metadata": {
        "id": "HNaH84aZ__cT"
      }
    },
    {
      "cell_type": "markdown",
      "source": [
        "## A one-sample bootstrap hypothesis test\n",
        "Another juvenile frog was studied, Frog C, and you want to see if Frog B and Frog C have similar impact forces. Unfortunately, you do not have Frog C's impact forces available, but you know they have a mean of 0.55 N. Because you don't have the original data, you cannot do a permutation test, and you cannot assess the hypothesis that the forces from Frog B and Frog C come from the same distribution. You will therefore test another, less restrictive hypothesis: The mean strike force of Frog B is equal to that of Frog C.\n",
        "\n",
        "To set up the bootstrap hypothesis test, you will take the mean as our test statistic. Remember, your goal is to calculate the probability of getting a mean impact force less than or equal to what was observed for Frog B if the hypothesis that the true mean of Frog B's impact forces is equal to that of Frog C is true. You first translate all of the data of Frog B such that the mean is 0.55 N. This involves adding the mean force of Frog C and subtracting the mean force of Frog B from each measurement of Frog B. This leaves other properties of Frog B's distribution, such as the variance, unchanged.\n"
      ],
      "metadata": {
        "id": "9eT_WigHXk38"
      }
    },
    {
      "cell_type": "code",
      "source": [
        "force_b.mean()"
      ],
      "metadata": {
        "colab": {
          "base_uri": "https://localhost:8080/"
        },
        "id": "7kbSQ6-5XrJp",
        "outputId": "c81621e2-1acb-44a7-9783-320ed2bbb643"
      },
      "execution_count": null,
      "outputs": [
        {
          "output_type": "execute_result",
          "data": {
            "text/plain": [
              "0.4191000000000001"
            ]
          },
          "metadata": {},
          "execution_count": 16
        }
      ]
    },
    {
      "cell_type": "code",
      "source": [
        "x,y = ecdf(force_b)"
      ],
      "metadata": {
        "id": "d-bgp-oVYZQh"
      },
      "execution_count": null,
      "outputs": []
    },
    {
      "cell_type": "code",
      "source": [
        "sns.scatterplot(x,y)"
      ],
      "metadata": {
        "colab": {
          "base_uri": "https://localhost:8080/",
          "height": 337
        },
        "id": "_rVwduH1YhqH",
        "outputId": "9106f700-d385-4462-e488-a680a34255a3"
      },
      "execution_count": null,
      "outputs": [
        {
          "output_type": "stream",
          "name": "stderr",
          "text": [
            "/usr/local/lib/python3.7/dist-packages/seaborn/_decorators.py:43: FutureWarning: Pass the following variables as keyword args: x, y. From version 0.12, the only valid positional argument will be `data`, and passing other arguments without an explicit keyword will result in an error or misinterpretation.\n",
            "  FutureWarning\n"
          ]
        },
        {
          "output_type": "execute_result",
          "data": {
            "text/plain": [
              "<matplotlib.axes._subplots.AxesSubplot at 0x7fc53e0b6b10>"
            ]
          },
          "metadata": {},
          "execution_count": 18
        },
        {
          "output_type": "display_data",
          "data": {
            "text/plain": [
              "<Figure size 432x288 with 1 Axes>"
            ],
            "image/png": "[encoded data removed]"
          },
          "metadata": {
            "needs_background": "light"
          }
        }
      ]
    },
    {
      "cell_type": "markdown",
      "source": [
        "Modify force_b with mean of frog C, to simulate real condition"
      ],
      "metadata": {
        "id": "gl0tLUfJY8Sq"
      }
    },
    {
      "cell_type": "code",
      "source": [
        "translated_force_b = force_b - np.mean(force_b) + 0.55\n",
        "translated_force_b"
      ],
      "metadata": {
        "colab": {
          "base_uri": "https://localhost:8080/"
        },
        "id": "kGibngC0Z3og",
        "outputId": "f95cc32c-17f5-40c4-81e6-0b22079ed83f"
      },
      "execution_count": null,
      "outputs": [
        {
          "output_type": "execute_result",
          "data": {
            "text/plain": [
              "array([0.3029, 0.2729, 0.1679, 0.5839, 0.4859, 0.1529, 0.6329, 0.4039,\n",
              "       0.8509, 0.7129, 0.3289, 0.3289, 0.7279, 0.6469, 0.9459, 0.5329,\n",
              "       0.7359, 0.8419, 0.7449, 0.5989])"
            ]
          },
          "metadata": {},
          "execution_count": 19
        }
      ]
    },
    {
      "cell_type": "code",
      "source": [
        "x_t,y_t = ecdf(translated_force_b)"
      ],
      "metadata": {
        "id": "VPnjeKpTaGBd"
      },
      "execution_count": null,
      "outputs": []
    },
    {
      "cell_type": "code",
      "source": [
        "_ = sns.scatterplot(x,y)\n",
        "_ = sns.scatterplot(x_t,y_t,color='red')\n"
      ],
      "metadata": {
        "colab": {
          "base_uri": "https://localhost:8080/",
          "height": 354
        },
        "id": "FcS9mN3taD83",
        "outputId": "b9df215c-8ece-4233-e112-51561e86b519"
      },
      "execution_count": null,
      "outputs": [
        {
          "output_type": "stream",
          "name": "stderr",
          "text": [
            "/usr/local/lib/python3.7/dist-packages/seaborn/_decorators.py:43: FutureWarning: Pass the following variables as keyword args: x, y. From version 0.12, the only valid positional argument will be `data`, and passing other arguments without an explicit keyword will result in an error or misinterpretation.\n",
            "  FutureWarning\n",
            "/usr/local/lib/python3.7/dist-packages/seaborn/_decorators.py:43: FutureWarning: Pass the following variables as keyword args: x, y. From version 0.12, the only valid positional argument will be `data`, and passing other arguments without an explicit keyword will result in an error or misinterpretation.\n",
            "  FutureWarning\n"
          ]
        },
        {
          "output_type": "display_data",
          "data": {
            "text/plain": [
              "<Figure size 432x288 with 1 Axes>"
            ],
            "image/png": "[encoded data removed]"
          },
          "metadata": {
            "needs_background": "light"
          }
        }
      ]
    },
    {
      "cell_type": "code",
      "source": [
        "def bootstrap_replicate_1d(data, func):\n",
        "\n",
        "  \"\"\"Generate bootstrap replicate of 1D data.\"\"\"\n",
        "\n",
        "  bs_sample = np.random.choice(data, len(data))\n",
        "  return func(bs_sample)\n"
      ],
      "metadata": {
        "id": "GaCEFXJzNIpU"
      },
      "execution_count": null,
      "outputs": []
    },
    {
      "cell_type": "code",
      "source": [
        "def draw_bs_reps(data, func, size=1):\n",
        "    \"\"\"Draw bootstrap replicates.\"\"\"\n",
        "\n",
        "    # Initialize array of replicates: bs_replicates\n",
        "    bs_replicates = np.empty(size)\n",
        "\n",
        "    # Generate replicates\n",
        "    for i in range(size):\n",
        "        bs_replicates[i] = bootstrap_replicate_1d(data=data,func=func)\n",
        "\n",
        "    return bs_replicates"
      ],
      "metadata": {
        "id": "7aNjHKmXLnmZ"
      },
      "execution_count": null,
      "outputs": []
    },
    {
      "cell_type": "code",
      "source": [
        "# Make an array of translated impact forces: translated_force_b\n",
        "translated_force_b = force_b - np.mean(force_b) + 0.55 # Fixing the drift in mean\n",
        "\n",
        "# Take bootstrap replicates of Frog B's translated impact forces: bs_replicates\n",
        "bs_replicates = draw_bs_reps(translated_force_b, np.mean, 10000)\n",
        "\n",
        "# Compute fraction of replicates that are less than the observed Frog B force: p\n",
        "p = np.sum(bs_replicates <= np.mean(force_b)) / 10000\n",
        "\n",
        "# Print the p-value\n",
        "print('p = ', p )"
      ],
      "metadata": {
        "id": "wYTSijFncP5R",
        "colab": {
          "base_uri": "https://localhost:8080/"
        },
        "outputId": "2f13b62b-677f-4c9f-ad4b-469232a032eb"
      },
      "execution_count": null,
      "outputs": [
        {
          "output_type": "stream",
          "name": "stdout",
          "text": [
            "p =  0.0064\n"
          ]
        }
      ]
    },
    {
      "cell_type": "markdown",
      "source": [
        "## A two-sample bootstrap hypothesis test for difference of means\n",
        "\n",
        "We now want to test the hypothesis that Frog A and Frog B have the same mean impact force, but not necessarily the same distribution, which is also impossible with a permutation test.\n"
      ],
      "metadata": {
        "id": "Zcovm9OtVlRy"
      }
    },
    {
      "cell_type": "code",
      "source": [
        "# Compute mean of all forces: mean_force\n",
        "mean_force = np.mean(np.concatenate((force_a,force_b)))\n",
        "\n",
        "# Generate shifted arrays\n",
        "force_a_shifted = force_a - np.mean(force_a) + mean_force\n",
        "force_b_shifted = force_b - np.mean(force_b) + mean_force\n",
        "\n",
        "# Compute 10,000 bootstrap replicates from shifted arrays\n",
        "bs_replicates_a = draw_bs_reps(force_a_shifted , np.mean, 10000)\n",
        "bs_replicates_b = draw_bs_reps(force_b_shifted, np.mean, 10000)\n",
        "\n",
        "# Get replicates of difference of means: bs_replicates\n",
        "bs_replicates = bs_replicates_a - bs_replicates_b\n",
        "\n",
        "# Compute and print p-value: p\n",
        "p = sum(bs_replicates>=(np.mean(force_a)-np.mean(force_b))) / 10000\n",
        "print('p-value =', p)\n"
      ],
      "metadata": {
        "colab": {
          "base_uri": "https://localhost:8080/"
        },
        "id": "_HSaTZoUdtM_",
        "outputId": "1cb72765-4e8a-4377-9850-97947f30dc18"
      },
      "execution_count": null,
      "outputs": [
        {
          "output_type": "stream",
          "name": "stdout",
          "text": [
            "p-value = 0.0056\n"
          ]
        }
      ]
    },
    {
      "cell_type": "markdown",
      "source": [
        "## Classes\n",
        "\n",
        "Some classes to optimize tests"
      ],
      "metadata": {
        "id": "IVXLVEMFPLgj"
      }
    },
    {
      "cell_type": "code",
      "source": [
        "#Function Two-Sample\n",
        "\n",
        "class permut_two_sample_p_test:\n",
        "\n",
        "  \"\"\"\n",
        "  Non-parametric - We are not assuming any underlying distribution.\n",
        "\n",
        "  Because you have the two samples you will perform and permutation test , \n",
        "  and assess the hypothesis that for example: \"the forces from Frog B and Frog C come from the same distribution.\"\n",
        "\n",
        "  1 - Ho - Define the null hypothesis, example the distribution scores in rj are the same as sp\n",
        "\n",
        "  2 - Define test statistics that will be performed, example: np.mean(rj_scores)-np.mean(sp_scores)\n",
        "\n",
        "  3 - Many times of simulating data assuming the null hypothesis is true. For one-sample bootstraping and for two-sample permuting data\n",
        "\n",
        "  4 - Compute test statistics for simulated data sets.\n",
        "\n",
        "  5 - p value - % of times that observed test statistics are inside simulated test statistics array.   Less p-values higher statistical difference between\n",
        "  arrays\n",
        "\n",
        "  ### Args\n",
        "\n",
        "  data_1, data_2 - datas to test\n",
        "\n",
        "  func - test statistics, to create null hypothesis, example np.mean(rj_scores)-np.mean(sp_scores)\n",
        "\n",
        "  size - 1000 by standard. How many times the simulated test statistics will be made. \n",
        "  \n",
        "  \"\"\"\n",
        "\n",
        "  def __init__(self, data_1, data_2, func, size=1000, plot = True):\n",
        "\n",
        "    self.data_1 = data_1\n",
        "    self.data_2 = data_2\n",
        "    self.func = func\n",
        "    self.size = size\n",
        "    self.plot = plot\n",
        "    self.empirical_diff_means = self.func(self.data_1, self.data_2)\n",
        "\n",
        "  #def ecdf(self):\n",
        "    \n",
        "\n",
        "  def permutation_sample(self):\n",
        "      \"\"\"Generate a permutation sample from two data sets.\"\"\"\n",
        "\n",
        "      # Concatenate the data sets: data\n",
        "      data = np.concatenate((self.data_1,self.data_2))\n",
        "\n",
        "      # Permute the concatenated array: permuted_data\n",
        "      permuted_data = np.random.permutation(data)\n",
        "\n",
        "      # Split the permuted array into two: perm_sample_1, perm_sample_2\n",
        "      perm_sample_1 = permuted_data[:len(self.data_1)]\n",
        "      perm_sample_2 = permuted_data[len(self.data_1):]\n",
        "\n",
        "      return perm_sample_1, perm_sample_2\n",
        "\n",
        "  def draw_perm_reps(self):\n",
        "    \"\"\"Generate multiple permutation replicates.\"\"\"\n",
        "\n",
        "    # Initialize array of replicates: perm_replicates\n",
        "    perm_replicates = np.empty(self.size)\n",
        "\n",
        "    for i in range(self.size):\n",
        "        # Generate permutation sample\n",
        "        perm_sample_1, perm_sample_2 = self.permutation_sample()\n",
        "\n",
        "        # Compute the test statistic\n",
        "        perm_replicates[i] = self.func(perm_sample_1, perm_sample_2)\n",
        "\n",
        "    return perm_replicates\n",
        "\n",
        "  def p_value(self):\n",
        "\n",
        "    self.perm_replicates = self.draw_perm_reps()\n",
        "\n",
        "    p_value = np.sum(self.perm_replicates >= self.empirical_diff_means) / len(self.perm_replicates)\n",
        "\n",
        "    if self.plot == True:\n",
        "      _ = sns.histplot(self.perm_replicates)\n",
        "      _= plt.axvline(self.empirical_diff_means, color='red', linestyle='dashed', linewidth=1)\n",
        "      plt.show()\n",
        "\n",
        "    return print('p = ', p_value )"
      ],
      "metadata": {
        "id": "932wVVwivL7O"
      },
      "execution_count": null,
      "outputs": []
    },
    {
      "cell_type": "markdown",
      "source": [
        "Example using two_sample_p_test"
      ],
      "metadata": {
        "id": "F6fjZryfPaVb"
      }
    },
    {
      "cell_type": "code",
      "source": [
        "permut_two_sample_p_test(force_a, force_b,size=100000,func=diff_of_means).p_value()"
      ],
      "metadata": {
        "colab": {
          "base_uri": "https://localhost:8080/",
          "height": 282
        },
        "id": "dx5b5IFEw4Qa",
        "outputId": "7f3a11cf-8722-4c93-cf05-b3ce1299f635"
      },
      "execution_count": null,
      "outputs": [
        {
          "output_type": "display_data",
          "data": {
            "text/plain": [
              "<Figure size 432x288 with 1 Axes>"
            ],
            "image/png": "[encoded data removed]"
          },
          "metadata": {
            "needs_background": "light"
          }
        },
        {
          "output_type": "stream",
          "name": "stdout",
          "text": [
            "p =  0.00537\n"
          ]
        }
      ]
    },
    {
      "cell_type": "code",
      "source": [
        " #Choose the right statistics to test your data, in this case the difference between means \n",
        "  \n",
        "  def diff_of_means(data_1,data_2):\n",
        "    \"\"\"Difference in means of two arrays.\"\"\"\n",
        "\n",
        "    # The difference of means of data_1, data_2: diff\n",
        "    diff = np.mean(data_1)-np.mean(data_2)\n",
        "\n",
        "    return diff  "
      ],
      "metadata": {
        "id": "vb_QFrMK1ERU"
      },
      "execution_count": null,
      "outputs": []
    },
    {
      "cell_type": "code",
      "source": [
        "#Function Boostraping One-Sample P value\n",
        "\n",
        "class bs_one_sample_p_test:\n",
        "\n",
        "  \"\"\"\n",
        "  Non-parametric - We are not assuming any underlying distribution.\n",
        "\n",
        "  It will be used bootstraping once that we just have one of samples, so here we can just test the summary statistics, for example mean, median and etc...\n",
        "  At the end we could not say that they come from same distribution for example.\n",
        "\n",
        "  Replicate it's a summary statistics for some bootstraped array.\n",
        "\n",
        "  1 - Ho - Define the null hypothesis, example the mean scores in rj are the same as sp\n",
        "\n",
        "  2 - Define test statistics that will be performed, example: np.mean(rj_scores)-np.mean(sp_scores)\n",
        "\n",
        "  3 - Many times of simulating data assuming the null hypothesis is true. For one-sample bootstraping and for two-sample permuting data\n",
        "\n",
        "  4 - Compute test statistics for simulated data sets.\n",
        "\n",
        "  5 - p value - % of times that observed test statistics are inside simulated test statistics array.   Less p-values higher statistical difference between\n",
        "  arrays\n",
        "\n",
        "  ### Args\n",
        "\n",
        "  data_1 - should be and array, observed array values of frog B \n",
        "  \n",
        "  data_2 - should be an unique value, for example mean of frog C forces\n",
        "\n",
        "  func - test statistics, to create null hypothesis\n",
        "\n",
        "  size - how many times the simulated test statistics will be made.\n",
        "  \n",
        "  \"\"\"\n",
        "\n",
        "  def __init__(self,data_1,value_2,func=np.mean,size=10000,plot=True):\n",
        "\n",
        "    self.data_1 = data_1\n",
        "    self.value_2 = value_2\n",
        "    self.func = func\n",
        "    self.plot = plot\n",
        "    self.size = size\n",
        "\n",
        "\n",
        "  def translate_array(self):\n",
        "      \n",
        "    # Make an array of translated data_1 with same mean as value_2\n",
        "    translated_data_1_array = self.data_1 - np.mean(self.data_1) + np.mean(self.value_2) # Fixing the drift in mean\n",
        "    return translated_data_1_array\n",
        "\n",
        "  def bootstrap_replicate_1d(self):\n",
        "\n",
        "    \"\"\"Generate bootstrap replicate of 1D data.\"\"\"\n",
        "\n",
        "    bs_sample = np.random.choice(self.translate_array(), len(self.translate_array()))\n",
        "\n",
        "    return self.func(bs_sample)\n",
        "\n",
        "\n",
        "  def draw_bs_reps(self):\n",
        "    \"\"\"Draw array of bootstrap replicates.\"\"\"\n",
        "\n",
        "    # Initialize array of replicates: bs_replicates\n",
        "    bs_replicates = np.empty(self.size)\n",
        "\n",
        "    # Generate replicates\n",
        "    for i in range(self.size):\n",
        "        bs_replicates[i] = self.bootstrap_replicate_1d()\n",
        "\n",
        "    return bs_replicates\n",
        "  \n",
        "\n",
        "  def p_value(self):\n",
        "\n",
        "    bs_replicates = self.draw_bs_reps()\n",
        "\n",
        "    p_value = np.sum(bs_replicates <= self.func(self.data_1)) / self.size\n",
        "\n",
        "    if self.plot == True:\n",
        "      _ = sns.histplot(bs_replicates)\n",
        "      _= plt.axvline(self.func(self.data_1), color='red', linestyle='dashed', linewidth=1)\n",
        "      plt.show()\n",
        "\n",
        "    return print('p = ', p_value)"
      ],
      "metadata": {
        "id": "nBGwUKE44rd2"
      },
      "execution_count": null,
      "outputs": []
    },
    {
      "cell_type": "code",
      "source": [
        "bs_one_sample_p_test(force_b,force_c).p_value()"
      ],
      "metadata": {
        "colab": {
          "base_uri": "https://localhost:8080/",
          "height": 282
        },
        "id": "M2zfb1UbRJPZ",
        "outputId": "12520702-361c-48c8-9810-9d931d98a4aa"
      },
      "execution_count": null,
      "outputs": [
        {
          "output_type": "display_data",
          "data": {
            "text/plain": [
              "<Figure size 432x288 with 1 Axes>"
            ],
            "image/png": "[encoded data removed]"
          },
          "metadata": {
            "needs_background": "light"
          }
        },
        {
          "output_type": "stream",
          "name": "stdout",
          "text": [
            "p =  0.0053\n"
          ]
        }
      ]
    },
    {
      "cell_type": "code",
      "source": [
        "#Function Boostraping Two-Sample P value\n",
        "\n",
        "class bs_two_sample_p_test:\n",
        "\n",
        "  \"\"\"\n",
        "  Non-parametric - We are not assuming any underlying distribution.\n",
        "\n",
        "  We will use bootstrap so here we can just test the summary statistics, for example mean, median and etc...\n",
        "  At the end we could not say that they come from same distribution for example.\n",
        "\n",
        "  Replicate it's a summary statistics for some bootstraped array.\n",
        "\n",
        "  1 - Ho - Define the null hypothesis, example the mean scores in rj are the same as sp\n",
        "\n",
        "  2 - Define test statistics that will be performed, example: np.mean(rj_scores)-np.mean(sp_scores)\n",
        "\n",
        "  3 - Many times of simulating data assuming the null hypothesis is true. For one-sample bootstraping and for two-sample permuting data\n",
        "\n",
        "  4 - Compute test statistics for simulated data sets.\n",
        "\n",
        "  5 - p value - % of times that observed test statistics are inside simulated test statistics array.   Less p-values higher statistical difference between\n",
        "  arrays\n",
        "\n",
        "  ### Args\n",
        "\n",
        "  data_1 - should be and array, observed array values of frog B \n",
        "  \n",
        "  data_2 - should be an unique value, for example mean of frog C forces\n",
        "\n",
        "  func - test statistics, to create null hypothesis\n",
        "\n",
        "  size - how many times the simulated test statistics will be made.\n",
        "  \n",
        "  \"\"\"\n",
        "\n",
        "  def __init__(self,data_1,data_2,func=np.mean,size=10000,plot=True):\n",
        "\n",
        "    self.data_1 = data_1\n",
        "    self.data_2 = data_2\n",
        "    self.func = func\n",
        "    self.size = size\n",
        "    self.plot = plot\n",
        "    self.overall_mean = self.func(np.concatenate((data_1,data_2)))\n",
        "\n",
        "\n",
        "  def translate_array(self):\n",
        "      \n",
        "    # Shifiting arrays data_1 and data_2 to represent overall mean\n",
        "    translated_data_1_array = self.data_1 - np.mean(self.data_1) + self.overall_mean # Fixing the drift in mean\n",
        "    translated_data_2_array = self.data_2 - np.mean(self.data_2) + self.overall_mean # Fixing the drift in mean\n",
        "\n",
        "    return translated_data_1_array,translated_data_2_array\n",
        "\n",
        "  def bootstrap_replicate_1d(self):\n",
        "\n",
        "    \"\"\"Generate bootstrap replicate of 1D data.\"\"\"\n",
        "\n",
        "    bs_sample_1 = np.random.choice(self.translate_array()[0], len(self.translate_array()[0]))\n",
        "    bs_sample_2 = np.random.choice(self.translate_array()[1], len(self.translate_array()[1]))\n",
        "\n",
        "    return self.func(bs_sample_1),self.func(bs_sample_2)\n",
        "\n",
        "\n",
        "  def draw_bs_reps(self):\n",
        "    \"\"\"Draw array of bootstrap replicates.\"\"\"\n",
        "\n",
        "    # Initialize array of replicates: bs_replicates\n",
        "    bs_replicates_1 = np.empty(self.size)\n",
        "    bs_replicates_2 = np.empty(self.size)\n",
        "\n",
        "    # Generate replicates\n",
        "    for i in range(self.size):\n",
        "        bs_replicates_1[i] = self.bootstrap_replicate_1d()[0]\n",
        "        bs_replicates_2[i] = self.bootstrap_replicate_1d()[1]\n",
        "\n",
        "    # Get replicates of difference of means: bs_replicates\n",
        "    bs_replicates = bs_replicates_1 - bs_replicates_2\n",
        "\n",
        "    return bs_replicates\n",
        "  \n",
        "\n",
        "  def p_value(self):\n",
        "\n",
        "    bs_replicates = self.draw_bs_reps()\n",
        "\n",
        "    mean_diffs = (np.mean(self.data_1)-np.mean(self.data_2))\n",
        "\n",
        "    p_value = np.sum(bs_replicates >= mean_diffs) / self.size\n",
        "\n",
        "    if self.plot == True:\n",
        "      _ = sns.histplot(bs_replicates)\n",
        "      _= plt.axvline(mean_diffs, color='red', linestyle='dashed', linewidth=1)\n",
        "      plt.show()\n",
        "\n",
        "    return print('p = ', p_value)"
      ],
      "metadata": {
        "id": "6o3KGFLmV9nL"
      },
      "execution_count": null,
      "outputs": []
    },
    {
      "cell_type": "code",
      "source": [
        "bs_two_sample_p_test(force_a,force_b).p_value()"
      ],
      "metadata": {
        "colab": {
          "base_uri": "https://localhost:8080/",
          "height": 282
        },
        "id": "-Zp9os-RYY7E",
        "outputId": "e11751a3-23e0-4afd-8faf-0f4a26e6e4a3"
      },
      "execution_count": null,
      "outputs": [
        {
          "output_type": "display_data",
          "data": {
            "text/plain": [
              "<Figure size 432x288 with 1 Axes>"
            ],
            "image/png": "[encoded data removed]"
          },
          "metadata": {
            "needs_background": "light"
          }
        },
        {
          "output_type": "stream",
          "name": "stdout",
          "text": [
            "p =  0.0048\n"
          ]
        }
      ]
    },
    {
      "cell_type": "markdown",
      "source": [
        "## A/B - Testing"
      ],
      "metadata": {
        "id": "mXEpMwzHgTrf"
      }
    },
    {
      "cell_type": "markdown",
      "source": [],
      "metadata": {
        "id": "pALk8oXagSAg"
      }
    },
    {
      "cell_type": "code",
      "source": [],
      "metadata": {
        "id": "COIoClbugX7W"
      },
      "execution_count": null,
      "outputs": []
    },
    {
      "cell_type": "markdown",
      "source": [
        "![image.png](data:image/png;base64,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)"
      ],
      "metadata": {
        "id": "u1vl99E0gMdD"
      }
    },
    {
      "cell_type": "code",
      "source": [
        "# Construct arrays of data: dems, reps\n",
        "dems = np.array([True] * 153 + [False] * 91)\n",
        "reps = np.array([True] * 136 + [False] * 35)"
      ],
      "metadata": {
        "id": "-bSnfr3PhuL8"
      },
      "execution_count": null,
      "outputs": []
    },
    {
      "cell_type": "code",
      "source": [
        "permut_two_sample_p_test(screen_a,screen_b,func=diff_frac).p_value()"
      ],
      "metadata": {
        "colab": {
          "base_uri": "https://localhost:8080/",
          "height": 282
        },
        "id": "1myC4B8Qiqmo",
        "outputId": "247bc573-e1d2-49fb-8fe3-269739e1ff3f"
      },
      "execution_count": null,
      "outputs": [
        {
          "output_type": "display_data",
          "data": {
            "text/plain": [
              "<Figure size 432x288 with 1 Axes>"
            ],
            "image/png": "[encoded data removed]"
          },
          "metadata": {
            "needs_background": "light"
          }
        },
        {
          "output_type": "stream",
          "name": "stdout",
          "text": [
            "p =  0.021\n"
          ]
        }
      ]
    },
    {
      "cell_type": "code",
      "source": [
        "def diff_frac(data_A, data_B):\n",
        "  \n",
        "  frac_A = np.sum(data_A) / len(data_A)\n",
        "  frac_B = np.sum(data_B) / len(data_B)\n",
        "  \n",
        "  return frac_B - frac_A"
      ],
      "metadata": {
        "id": "TXgd6Y1Aj6cU"
      },
      "execution_count": null,
      "outputs": []
    },
    {
      "cell_type": "code",
      "source": [
        "def frac_yea_dems(dems, reps):\n",
        "    \"\"\"Compute fraction of Democrat yea votes.\"\"\"\n",
        "    frac = sum(dems==True) / len(dems)\n",
        "    return frac\n"
      ],
      "metadata": {
        "id": "xr4QgzIVi6dn"
      },
      "execution_count": null,
      "outputs": []
    },
    {
      "cell_type": "code",
      "source": [
        "# Construct arrays of data: dems, reps\n",
        "screen_a = np.array([True] * 45 + [False] * (500-45))\n",
        "screen_b = np.array([True] * 67 + [False] * (500-67))"
      ],
      "metadata": {
        "id": "-V_Mb0HBkM95"
      },
      "execution_count": null,
      "outputs": []
    },
    {
      "cell_type": "code",
      "source": [
        "# Construct arrays of data: dems, reps\n",
        "dems = np.array([True] * 153 + [False] * 91)\n",
        "reps = np.array([True] * 136 + [False] * 35)\n",
        "\n",
        "def frac_yea_dems(dems, reps):\n",
        "    \"\"\"Compute fraction of Democrat yea votes.\"\"\"\n",
        "    frac = sum(dems==True) / len(dems)\n",
        "    return frac\n",
        "\n",
        "# Acquire permutation samples: perm_replicates\n",
        "perm_replicates = draw_perm_reps(dems, reps, frac_yea_dems, size=10000)\n",
        "\n",
        "# Compute and print p-value: p\n",
        "p = np.sum(perm_replicates <= 153/244) / len(perm_replicates)\n",
        "print('p-value =', p)"
      ],
      "metadata": {
        "id": "_v42xNA1iol0"
      },
      "execution_count": null,
      "outputs": []
    }
  ]
}