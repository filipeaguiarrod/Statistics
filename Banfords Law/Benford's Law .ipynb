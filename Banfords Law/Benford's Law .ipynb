{
 "cells": [
  {
   "cell_type": "code",
   "execution_count": null,
   "metadata": {},
   "outputs": [],
   "source": [
    "#  Benford's Law "
   ]
  },
  {
   "cell_type": "code",
   "execution_count": 112,
   "metadata": {},
   "outputs": [],
   "source": [
    "import numpy as np\n",
    "import scipy.stats as sct\n",
    "import seaborn as sns\n",
    "import random\n",
    "\n",
    "import matplotlib.pyplot as plt"
   ]
  },
  {
   "cell_type": "code",
   "execution_count": 113,
   "metadata": {},
   "outputs": [],
   "source": [
    "# Criando lista com números aleatórios e transformando todos em string"
   ]
  },
  {
   "cell_type": "code",
   "execution_count": 114,
   "metadata": {},
   "outputs": [
    {
     "data": {
      "text/plain": [
       "10000"
      ]
     },
     "execution_count": 114,
     "metadata": {},
     "output_type": "execute_result"
    }
   ],
   "source": [
    "randomlist = []\n",
    "for i in range(1,10001):\n",
    "    n=random.randint(1,30)\n",
    "    n=str(n)\n",
    "    randomlist.append(n)\n",
    "#print(randomlist)\n",
    "\n",
    "len(randomlist)"
   ]
  },
  {
   "cell_type": "code",
   "execution_count": 18,
   "metadata": {},
   "outputs": [],
   "source": [
    "# Crio nova lista de números apenas com primeiro dígito de cada número da lista anterior."
   ]
  },
  {
   "cell_type": "code",
   "execution_count": 116,
   "metadata": {},
   "outputs": [],
   "source": [
    "banford=[]\n",
    "\n",
    "for i in randomlist:\n",
    "    i=int(i[0][0])\n",
    "    banford.append(i)\n",
    "    \n",
    "#print(banford)\n",
    "#len(banford)\n",
    "    "
   ]
  },
  {
   "cell_type": "code",
   "execution_count": 136,
   "metadata": {
    "scrolled": true
   },
   "outputs": [
    {
     "data": {
      "text/plain": [
       "(array([3714., 3686.,  619.,  339.,  342.,  320.,  330.,  313.,  337.]),\n",
       " array([1.        , 1.88888889, 2.77777778, 3.66666667, 4.55555556,\n",
       "        5.44444444, 6.33333333, 7.22222222, 8.11111111, 9.        ]),\n",
       " <a list of 9 Patch objects>)"
      ]
     },
     "execution_count": 136,
     "metadata": {},
     "output_type": "execute_result"
    },
    {
     "data": {
      "image/png": "[encoded data removed]",
      "text/plain": [
       "<Figure size 432x288 with 1 Axes>"
      ]
     },
     "metadata": {
      "needs_background": "light"
     },
     "output_type": "display_data"
    }
   ],
   "source": [
    "plt.hist(banford,bins=9) "
   ]
  },
  {
   "cell_type": "code",
   "execution_count": 25,
   "metadata": {},
   "outputs": [
    {
     "ename": "SyntaxError",
     "evalue": "invalid syntax (<ipython-input-25-84d16fbe96ad>, line 1)",
     "output_type": "error",
     "traceback": [
      "\u001b[1;36m  File \u001b[1;32m\"<ipython-input-25-84d16fbe96ad>\"\u001b[1;36m, line \u001b[1;32m1\u001b[0m\n\u001b[1;33m    <img src=\"benfords-law.png\">\u001b[0m\n\u001b[1;37m    ^\u001b[0m\n\u001b[1;31mSyntaxError\u001b[0m\u001b[1;31m:\u001b[0m invalid syntax\n"
     ]
    }
   ],
   "source": []
  },
  {
   "cell_type": "code",
   "execution_count": 56,
   "metadata": {},
   "outputs": [],
   "source": [
    "from sklearn import datasets\n",
    "import pandas as pd"
   ]
  },
  {
   "cell_type": "code",
   "execution_count": 71,
   "metadata": {},
   "outputs": [],
   "source": [
    "population = pd.read_csv ('C:\\\\Users\\\\rodri\\\\TERA\\\\population_by_country_2020.csv')\n",
    "print(population)"
   ]
  },
  {
   "cell_type": "code",
   "execution_count": 86,
   "metadata": {},
   "outputs": [
    {
     "name": "stdout",
     "output_type": "stream",
     "text": [
      "    Country (or dependency)  Population (2020) Yearly Change  Net Change  \\\n",
      "0                     China         1440297825        0.39 %     5540090   \n",
      "1                     India         1382345085        0.99 %    13586631   \n",
      "2             United States          331341050        0.59 %     1937734   \n",
      "3                 Indonesia          274021604        1.07 %     2898047   \n",
      "4                  Pakistan          221612785        2.00 %     4327022   \n",
      "..                      ...                ...           ...         ...   \n",
      "230              Montserrat               4993        0.06 %           3   \n",
      "231        Falkland Islands               3497        3.05 %         103   \n",
      "232                    Niue               1628        0.68 %          11   \n",
      "233                 Tokelau               1360        1.27 %          17   \n",
      "234                Holy See                801        0.25 %           2   \n",
      "\n",
      "     Density (P/Km²)  Land Area (Km²)  Migrants (net) Fert. Rate Med. Age  \\\n",
      "0                153          9388211       -348399.0        1.7       38   \n",
      "1                464          2973190       -532687.0        2.2       28   \n",
      "2                 36          9147420        954806.0        1.8       38   \n",
      "3                151          1811570        -98955.0        2.3       30   \n",
      "4                287           770880       -233379.0        3.6       23   \n",
      "..               ...              ...             ...        ...      ...   \n",
      "230               50              100             NaN       N.A.     N.A.   \n",
      "231                0            12170             NaN       N.A.     N.A.   \n",
      "232                6              260             NaN       N.A.     N.A.   \n",
      "233              136               10             NaN       N.A.     N.A.   \n",
      "234             2003                0             NaN       N.A.     N.A.   \n",
      "\n",
      "    Urban Pop % World Share  \n",
      "0          61 %     18.47 %  \n",
      "1          35 %     17.70 %  \n",
      "2          83 %      4.25 %  \n",
      "3          56 %      3.51 %  \n",
      "4          35 %      2.83 %  \n",
      "..          ...         ...  \n",
      "230        10 %      0.00 %  \n",
      "231        66 %      0.00 %  \n",
      "232        46 %      0.00 %  \n",
      "233         0 %      0.00 %  \n",
      "234        N.A.      0.00 %  \n",
      "\n",
      "[235 rows x 11 columns]\n"
     ]
    }
   ],
   "source": [
    "pop=population['Population (2020)']"
   ]
  },
  {
   "cell_type": "code",
   "execution_count": 108,
   "metadata": {},
   "outputs": [],
   "source": [
    "pop=population['Land Area (Km²)']"
   ]
  },
  {
   "cell_type": "code",
   "execution_count": 87,
   "metadata": {},
   "outputs": [
    {
     "data": {
      "text/plain": [
       "pandas.core.series.Series"
      ]
     },
     "execution_count": 87,
     "metadata": {},
     "output_type": "execute_result"
    }
   ],
   "source": [
    "type(pop)"
   ]
  },
  {
   "cell_type": "code",
   "execution_count": 130,
   "metadata": {},
   "outputs": [],
   "source": [
    "bern=[]\n",
    "for i in pop:\n",
    "    #print (i)\n",
    "    i=str(i)\n",
    "    #print(i[0][0])\n",
    "    i=i[0][0]\n",
    "    i=int(i)\n",
    "    if i !=0:\n",
    "        bern.append(i)\n"
   ]
  },
  {
   "cell_type": "code",
   "execution_count": 131,
   "metadata": {},
   "outputs": [
    {
     "name": "stdout",
     "output_type": "stream",
     "text": [
      "[9, 2, 9, 1, 7, 8, 9, 1, 1, 1, 3, 1, 2, 9, 3, 2, 7, 1, 3, 5, 2, 5, 2, 8, 1, 6, 5, 9, 1, 4, 1, 2, 2, 1, 5, 4, 6, 3, 9, 4, 2, 4, 1, 1, 3, 7, 2, 5, 1, 8, 5, 4, 3, 1, 7, 1, 3, 6, 2, 1, 2, 9, 7, 2, 7, 1, 2, 1, 3, 1, 1, 1, 6, 3, 2, 2, 1, 2, 1, 1, 3, 2, 1, 6, 4, 7, 1, 8, 9, 8, 4, 1, 8, 9, 1, 2, 8, 4, 8, 2, 3, 5, 7, 1, 2, 3, 1, 1, 1, 1, 1, 2, 4, 7, 4, 3, 3, 4, 3, 3, 6, 5, 9, 6, 6, 2, 1, 7, 1, 5, 3, 6, 1, 1, 5, 1, 2, 1, 1, 2, 8, 6, 8, 1, 5, 2, 3, 2, 2, 2, 6, 7, 2, 5, 4, 1, 2, 9, 1, 2, 1, 2, 1, 1, 3, 2, 3, 1, 2, 2, 1, 4, 3, 3, 5, 1, 2, 1, 1, 1, 1, 8, 4, 1, 3, 3, 9, 2, 6, 1, 5, 4, 8, 7, 3, 3, 1, 7, 3, 4, 4, 5, 4, 7, 2, 5, 1, 4, 4, 2, 2, 1, 3, 1, 9, 5, 1, 6, 1, 1, 3, 4, 2, 9, 3, 1, 2, 2, 3, 2, 1, 1, 2, 1]\n"
     ]
    }
   ],
   "source": [
    "print(bern)"
   ]
  },
  {
   "cell_type": "code",
   "execution_count": 135,
   "metadata": {},
   "outputs": [
    {
     "data": {
      "text/plain": [
       "(array([67., 45., 31., 21., 17., 13., 14., 12., 14.]),\n",
       " array([1.        , 1.88888889, 2.77777778, 3.66666667, 4.55555556,\n",
       "        5.44444444, 6.33333333, 7.22222222, 8.11111111, 9.        ]),\n",
       " <a list of 9 Patch objects>)"
      ]
     },
     "execution_count": 135,
     "metadata": {},
     "output_type": "execute_result"
    },
    {
     "data": {
      "image/png": "[encoded data removed]",
      "text/plain": [
       "<Figure size 432x288 with 1 Axes>"
      ]
     },
     "metadata": {
      "needs_background": "light"
     },
     "output_type": "display_data"
    }
   ],
   "source": [
    "plt.hist(bern,bins=9) "
   ]
  },
  {
   "cell_type": "code",
   "execution_count": 140,
   "metadata": {},
   "outputs": [
    {
     "ename": "SyntaxError",
     "evalue": "invalid syntax (<ipython-input-140-c148d3f351f3>, line 1)",
     "output_type": "error",
     "traceback": [
      "\u001b[1;36m  File \u001b[1;32m\"<ipython-input-140-c148d3f351f3>\"\u001b[1;36m, line \u001b[1;32m1\u001b[0m\n\u001b[1;33m    imgsrc= \"C:\\\\Users\\\\rodri\\\\TERA\\\\benfords-law.png\">\u001b[0m\n\u001b[1;37m                                                       ^\u001b[0m\n\u001b[1;31mSyntaxError\u001b[0m\u001b[1;31m:\u001b[0m invalid syntax\n"
     ]
    }
   ],
   "source": []
  },
  {
   "cell_type": "code",
   "execution_count": null,
   "metadata": {},
   "outputs": [],
   "source": []
  }
 ],
 "metadata": {
  "kernelspec": {
   "display_name": "Python 3",
   "language": "python",
   "name": "python3"
  },
  "language_info": {
   "codemirror_mode": {
    "name": "ipython",
    "version": 3
   },
   "file_extension": ".py",
   "mimetype": "text/x-python",
   "name": "python",
   "nbconvert_exporter": "python",
   "pygments_lexer": "ipython3",
   "version": "3.7.6"
  }
 },
 "nbformat": 4,
 "nbformat_minor": 4
}
