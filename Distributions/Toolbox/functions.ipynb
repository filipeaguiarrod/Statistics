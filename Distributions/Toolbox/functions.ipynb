{
 "cells": [
  {
   "cell_type": "code",
   "execution_count": 7,
   "id": "3bcf5d9b",
   "metadata": {
    "execution": {
     "iopub.execute_input": "2021-12-18T23:51:56.350937Z",
     "iopub.status.busy": "2021-12-18T23:51:56.350937Z",
     "iopub.status.idle": "2021-12-18T23:51:58.785323Z",
     "shell.execute_reply": "2021-12-18T23:51:58.785323Z",
     "shell.execute_reply.started": "2021-12-18T23:51:56.350937Z"
    },
    "tags": []
   },
   "outputs": [],
   "source": [
    "import numpy as np\n",
    "import matplotlib.pyplot as plt"
   ]
  },
  {
   "cell_type": "markdown",
   "id": "7827197f",
   "metadata": {},
   "source": [
    "# PMF - Probability Mass Function"
   ]
  },
  {
   "cell_type": "code",
   "execution_count": 34,
   "id": "d3315cf5",
   "metadata": {
    "execution": {
     "iopub.execute_input": "2021-12-18T23:58:47.124563Z",
     "iopub.status.busy": "2021-12-18T23:58:47.123563Z",
     "iopub.status.idle": "2021-12-18T23:58:47.138563Z",
     "shell.execute_reply": "2021-12-18T23:58:47.138563Z",
     "shell.execute_reply.started": "2021-12-18T23:58:47.124563Z"
    },
    "tags": []
   },
   "outputs": [],
   "source": [
    "def plot_pmf(array):\n",
    "   \n",
    "    \n",
    "    # Compute bin edges: bins\n",
    "    bins = np.arange(min(array), max(array) + 1.5) - 0.5 # defaults is an array with your number's observation\n",
    " \n",
    "    # Generate histogram\n",
    "    _ = plt.hist(array,density=True, stacked=True,bins=bins) # nomed will normalize all values turning histogram into pmf\n",
    "\n",
    "    # Label axes\n",
    "    _ = plt.xlabel('# of defaults')\n",
    "    _ = plt.ylabel('Frequency')\n",
    "\n",
    "\n",
    "    # Show the plot\n",
    "    plt.show()"
   ]
  },
  {
   "cell_type": "markdown",
   "id": "e4c3b809",
   "metadata": {},
   "source": [
    "# Compute ECDF"
   ]
  },
  {
   "cell_type": "code",
   "execution_count": 1,
   "id": "c19b819a",
   "metadata": {
    "execution": {
     "iopub.execute_input": "2021-12-23T19:39:25.838921Z",
     "iopub.status.busy": "2021-12-23T19:39:25.838921Z",
     "iopub.status.idle": "2021-12-23T19:39:25.859922Z",
     "shell.execute_reply": "2021-12-23T19:39:25.859922Z",
     "shell.execute_reply.started": "2021-12-23T19:39:25.838921Z"
    },
    "tags": []
   },
   "outputs": [],
   "source": [
    "''' Receive an array and compute x,y to plot '''\n",
    "\n",
    "def ecdf(data):\n",
    "    \n",
    "    import numpy as np\n",
    "    \"\"\"Compute ECDF for a one-dimensional array of measurements.\"\"\"\n",
    "    # Number of data points: n\n",
    "    n = len(data)\n",
    "\n",
    "    # x-data for the ECDF: x\n",
    "    x = np.sort(data)\n",
    "\n",
    "    # y-data for the ECDF: y\n",
    "    y = np.arange(1, n+1)/ n\n",
    "\n",
    "    return x, y"
   ]
  },
  {
   "cell_type": "markdown",
   "id": "5a2573f2",
   "metadata": {},
   "source": [
    "# Plot ECDF"
   ]
  },
  {
   "cell_type": "code",
   "execution_count": 2,
   "id": "f2babb53",
   "metadata": {
    "execution": {
     "iopub.execute_input": "2021-12-23T19:39:40.188681Z",
     "iopub.status.busy": "2021-12-23T19:39:40.188681Z",
     "iopub.status.idle": "2021-12-23T19:39:40.201684Z",
     "shell.execute_reply": "2021-12-23T19:39:40.201684Z",
     "shell.execute_reply.started": "2021-12-23T19:39:40.188681Z"
    },
    "tags": []
   },
   "outputs": [],
   "source": [
    "''' Given an x,y  from ecdf plots ecdf graphically'''\n",
    "\n",
    "def ecdf_plot(x, y, xlabel='name of xlabel'):\n",
    "    \n",
    "    import matplotlib.pyplot as plt\n",
    "    \n",
    "    _ = plt.plot(x,y,marker='.',linestyle='none')\n",
    "    _ = plt.xlabel(xlabel)\n",
    "    _ = plt.ylabel('ECDF')\n",
    "    plt.margins(0.02)\n",
    "    plt.show()\n"
   ]
  }
 ],
 "metadata": {
  "kernelspec": {
   "display_name": "Python 3 (ipykernel)",
   "language": "python",
   "name": "python3"
  },
  "language_info": {
   "codemirror_mode": {
    "name": "ipython",
    "version": 3
   },
   "file_extension": ".py",
   "mimetype": "text/x-python",
   "name": "python",
   "nbconvert_exporter": "python",
   "pygments_lexer": "ipython3",
   "version": "3.10.9"
  }
 },
 "nbformat": 4,
 "nbformat_minor": 5
}
