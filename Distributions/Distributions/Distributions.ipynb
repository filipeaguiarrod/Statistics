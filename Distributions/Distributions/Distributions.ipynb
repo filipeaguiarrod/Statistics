{
 "cells": [
  {
   "cell_type": "markdown",
   "id": "5589445e",
   "metadata": {
    "jp-MarkdownHeadingCollapsed": true,
    "tags": []
   },
   "source": [
    "# Functions"
   ]
  },
  {
   "cell_type": "markdown",
   "id": "d7a437a5",
   "metadata": {
    "tags": []
   },
   "source": [
    "## PMF - Probability Mass Function"
   ]
  },
  {
   "cell_type": "code",
   "execution_count": 26,
   "id": "b7eb8ed8",
   "metadata": {
    "execution": {
     "iopub.execute_input": "2021-12-23T19:39:59.037602Z",
     "iopub.status.busy": "2021-12-23T19:39:59.037602Z",
     "iopub.status.idle": "2021-12-23T19:39:59.049613Z",
     "shell.execute_reply": "2021-12-23T19:39:59.049613Z",
     "shell.execute_reply.started": "2021-12-23T19:39:59.037602Z"
    },
    "jupyter": {
     "source_hidden": true
    },
    "tags": []
   },
   "outputs": [],
   "source": [
    "def plot_pmf(array):\n",
    "   \n",
    "    \n",
    "    # Compute bin edges: bins\n",
    "    bins = np.arange(min(array), max(array) + 1.5) - 0.5 # defaults is an array with your number's observation\n",
    " \n",
    "    # Generate histogram\n",
    "    _ = plt.hist(array,density=True, stacked=True,bins=bins) # nomed will normalize all values turning histogram into pmf\n",
    "\n",
    "    # Label axes\n",
    "    _ = plt.xlabel('# of defaults')\n",
    "    _ = plt.ylabel('Frequency')\n",
    "\n",
    "\n",
    "    # Show the plot\n",
    "    plt.show()"
   ]
  },
  {
   "cell_type": "markdown",
   "id": "1b47bdd6",
   "metadata": {},
   "source": [
    "## Compute ECDF"
   ]
  },
  {
   "cell_type": "code",
   "execution_count": 41,
   "id": "f60c2671",
   "metadata": {
    "execution": {
     "iopub.execute_input": "2021-12-23T19:48:27.578911Z",
     "iopub.status.busy": "2021-12-23T19:48:27.578911Z",
     "iopub.status.idle": "2021-12-23T19:48:27.595903Z",
     "shell.execute_reply": "2021-12-23T19:48:27.594903Z",
     "shell.execute_reply.started": "2021-12-23T19:48:27.578911Z"
    },
    "tags": []
   },
   "outputs": [],
   "source": [
    "''' Receive an array and compute x,y to plot '''\n",
    "\n",
    "def ecdf(data):\n",
    "    \n",
    "    import numpy as np\n",
    "    \"\"\"Compute ECDF for a one-dimensional array of measurements.\"\"\"\n",
    "    # Number of data points: n\n",
    "    n = len(data)\n",
    "\n",
    "    # x-data for the ECDF: x\n",
    "    x = np.sort(data)\n",
    "\n",
    "    # y-data for the ECDF: y\n",
    "    y = np.arange(1, n+1)/ n\n",
    "\n",
    "    return x, y"
   ]
  },
  {
   "cell_type": "markdown",
   "id": "68ff1664",
   "metadata": {},
   "source": [
    "## Plot ECDF"
   ]
  },
  {
   "cell_type": "code",
   "execution_count": 44,
   "id": "3a20c065",
   "metadata": {
    "execution": {
     "iopub.execute_input": "2021-12-23T19:49:11.160608Z",
     "iopub.status.busy": "2021-12-23T19:49:11.159609Z",
     "iopub.status.idle": "2021-12-23T19:49:11.167610Z",
     "shell.execute_reply": "2021-12-23T19:49:11.167610Z",
     "shell.execute_reply.started": "2021-12-23T19:49:11.160608Z"
    },
    "tags": []
   },
   "outputs": [],
   "source": [
    "''' Given an x,y  from ecdf plots ecdf graphically'''\n",
    "\n",
    "def ecdf_plot(x, y, xlabel='name of xlabel'):\n",
    "    \n",
    "    import matplotlib.pyplot as plt\n",
    "    \n",
    "    _ = plt.plot(x,y,marker='.',linestyle='none')\n",
    "    _ = plt.xlabel(xlabel)\n",
    "    _ = plt.ylabel('ECDF')\n",
    "    plt.margins(0.02)\n",
    "    plt.show()\n"
   ]
  },
  {
   "cell_type": "markdown",
   "id": "aef56d16",
   "metadata": {
    "jp-MarkdownHeadingCollapsed": true,
    "tags": []
   },
   "source": [
    "# Binomial x Poisson"
   ]
  },
  {
   "cell_type": "code",
   "execution_count": 24,
   "id": "daf0608f",
   "metadata": {
    "collapsed": true,
    "execution": {
     "iopub.execute_input": "2021-12-23T19:35:56.228155Z",
     "iopub.status.busy": "2021-12-23T19:35:56.227165Z",
     "iopub.status.idle": "2021-12-23T19:35:56.545351Z",
     "shell.execute_reply": "2021-12-23T19:35:56.545351Z",
     "shell.execute_reply.started": "2021-12-23T19:35:56.228155Z"
    },
    "jupyter": {
     "outputs_hidden": true,
     "source_hidden": true
    },
    "tags": []
   },
   "outputs": [
    {
     "name": "stdout",
     "output_type": "stream",
     "text": [
      "Poisson:      10.0253 3.1868887508038304\n",
      "n = 20 Binom: 9.9927 2.2283282321058535\n"
     ]
    },
    {
     "data": {
      "image/png": "[encoded data removed]",
      "text/plain": [
       "<Figure size 432x288 with 1 Axes>"
      ]
     },
     "metadata": {
      "needs_background": "light"
     },
     "output_type": "display_data"
    },
    {
     "name": "stdout",
     "output_type": "stream",
     "text": [
      "n = 100 Binom: 9.9949 2.9865153590765274\n"
     ]
    },
    {
     "data": {
      "image/png": "[encoded data removed]",
      "text/plain": [
       "<Figure size 432x288 with 1 Axes>"
      ]
     },
     "metadata": {
      "needs_background": "light"
     },
     "output_type": "display_data"
    },
    {
     "name": "stdout",
     "output_type": "stream",
     "text": [
      "n = 1000 Binom: 9.9989 3.1640636513825067\n"
     ]
    },
    {
     "data": {
      "image/png": "[encoded data removed]",
      "text/plain": [
       "<Figure size 432x288 with 1 Axes>"
      ]
     },
     "metadata": {
      "needs_background": "light"
     },
     "output_type": "display_data"
    }
   ],
   "source": [
    "# Draw 10,000 samples out of Poisson distribution: samples_poisson\n",
    "samples_poisson = np.random.poisson(lam=10,size=10000)\n",
    "\n",
    "# Print the mean and standard deviation\n",
    "print('Poisson:     ', np.mean(samples_poisson),\n",
    "                       np.std(samples_poisson))\n",
    "\n",
    "# Specify values of n and p to consider for Binomial: n, p\n",
    "\n",
    "n = [20, 100, 1000]\n",
    "p = [0.5, 0.1, 0.01]\n",
    "\n",
    "for i in range(3):\n",
    "    samples_binomial = np.random.binomial(n[i],p[i],size=10000)\n",
    "\n",
    "    # Print results\n",
    "    print('n =', n[i], 'Binom:', np.mean(samples_binomial),\n",
    "                                 np.std(samples_binomial))\n",
    "    \n",
    "    plot_pmf(samples_binomial)"
   ]
  },
  {
   "cell_type": "markdown",
   "id": "53568b82",
   "metadata": {
    "execution": {
     "iopub.execute_input": "2021-12-18T23:59:08.956660Z",
     "iopub.status.busy": "2021-12-18T23:59:08.956660Z",
     "iopub.status.idle": "2021-12-18T23:59:08.968660Z",
     "shell.execute_reply": "2021-12-18T23:59:08.968660Z",
     "shell.execute_reply.started": "2021-12-18T23:59:08.956660Z"
    },
    "tags": []
   },
   "source": [
    "### Poisson"
   ]
  },
  {
   "cell_type": "code",
   "execution_count": 25,
   "id": "43838680",
   "metadata": {
    "execution": {
     "iopub.execute_input": "2021-12-23T19:35:56.546353Z",
     "iopub.status.busy": "2021-12-23T19:35:56.546353Z",
     "iopub.status.idle": "2021-12-23T19:35:56.657353Z",
     "shell.execute_reply": "2021-12-23T19:35:56.657353Z",
     "shell.execute_reply.started": "2021-12-23T19:35:56.546353Z"
    },
    "tags": []
   },
   "outputs": [
    {
     "data": {
      "image/png": "[encoded data removed]",
      "text/plain": [
       "<Figure size 432x288 with 1 Axes>"
      ]
     },
     "metadata": {
      "needs_background": "light"
     },
     "output_type": "display_data"
    }
   ],
   "source": [
    "plot_pmf(samples_poisson)"
   ]
  },
  {
   "cell_type": "markdown",
   "id": "9364b6c5",
   "metadata": {
    "jp-MarkdownHeadingCollapsed": true,
    "tags": []
   },
   "source": [
    "# Normal"
   ]
  },
  {
   "cell_type": "code",
   "execution_count": 1,
   "id": "04c2ee01",
   "metadata": {
    "collapsed": true,
    "execution": {
     "iopub.execute_input": "2021-12-23T18:42:47.744952Z",
     "iopub.status.busy": "2021-12-23T18:42:47.743952Z",
     "iopub.status.idle": "2021-12-23T18:42:54.278140Z",
     "shell.execute_reply": "2021-12-23T18:42:54.278140Z",
     "shell.execute_reply.started": "2021-12-23T18:42:47.743952Z"
    },
    "jupyter": {
     "outputs_hidden": true
    },
    "tags": []
   },
   "outputs": [],
   "source": [
    "import matplotlib.pyplot as plt\n",
    "import numpy as np"
   ]
  },
  {
   "cell_type": "code",
   "execution_count": 10,
   "id": "e8cd9c5b",
   "metadata": {
    "collapsed": true,
    "execution": {
     "iopub.execute_input": "2021-12-23T18:47:04.607406Z",
     "iopub.status.busy": "2021-12-23T18:47:04.606406Z",
     "iopub.status.idle": "2021-12-23T18:47:04.786559Z",
     "shell.execute_reply": "2021-12-23T18:47:04.786559Z",
     "shell.execute_reply.started": "2021-12-23T18:47:04.607406Z"
    },
    "jupyter": {
     "outputs_hidden": true
    },
    "tags": []
   },
   "outputs": [
    {
     "data": {
      "image/png": "[encoded data removed]",
      "text/plain": [
       "<Figure size 432x288 with 1 Axes>"
      ]
     },
     "metadata": {
      "needs_background": "light"
     },
     "output_type": "display_data"
    }
   ],
   "source": [
    "# Draw 100000 samples from Normal distribution with stds of interest: samples_std1, samples_std3, samples_std10\n",
    "\n",
    "samples_std1 = np.random.normal(20,1,size=100000)\n",
    "samples_std3 = np.random.normal(20,3,size=100000)\n",
    "samples_std10 = np.random.normal(20,10,size=100000)\n",
    "\n",
    "\n",
    "# Make histograms\n",
    "_ = plt.hist(samples_std1,bins=100,density=True,histtype='step')\n",
    "_ = plt.hist(samples_std3,bins=100,density=True,histtype='step')\n",
    "_ = plt.hist(samples_std10,bins=100,density=True,histtype='step')\n",
    "\n",
    "# Labels\n",
    "\n",
    "_ = plt.ylabel('PDF')\n",
    "_ = plt.xlabel('Frequency')\n",
    "\n",
    "# Make a legend, set limits and show plot\n",
    "_ = plt.legend(('std = 1', 'std = 3', 'std = 10'))\n",
    "plt.ylim(-0.01, 0.42)\n",
    "plt.show()"
   ]
  },
  {
   "cell_type": "code",
   "execution_count": 18,
   "id": "b14801ea",
   "metadata": {
    "execution": {
     "iopub.execute_input": "2021-12-23T18:49:28.054715Z",
     "iopub.status.busy": "2021-12-23T18:49:28.054715Z",
     "iopub.status.idle": "2021-12-23T18:49:28.063717Z",
     "shell.execute_reply": "2021-12-23T18:49:28.063717Z",
     "shell.execute_reply.started": "2021-12-23T18:49:28.054715Z"
    },
    "tags": []
   },
   "outputs": [
    {
     "name": "stdout",
     "output_type": "stream",
     "text": [
      "std1 --  mean  : 0.8160801019889202  |   std   : 0.04070365915170421\n",
      "std3 --  mean  : 0.5928789527586403  |   std   : 0.08892284295432004\n",
      "std10 --  mean  : 0.30725045185124733  |   std   : 0.15319738192373053\n"
     ]
    }
   ],
   "source": [
    "print('std1 -- ','mean  :',np.mean(samples_std1/samples_std1.max()),' |   std   :',np.std(samples_std1/samples_std1.max()))\n",
    "print('std3 -- ','mean  :',np.mean(samples_std3/samples_std3.max()),' |   std   :',np.std(samples_std3/samples_std3.max()))\n",
    "print('std10 -- ','mean  :',np.mean(samples_std10/samples_std10.max()),' |   std   :',np.std(samples_std10/samples_std10.max()))"
   ]
  },
  {
   "cell_type": "markdown",
   "id": "a308171e",
   "metadata": {},
   "source": [
    "## CDFs"
   ]
  },
  {
   "cell_type": "code",
   "execution_count": 46,
   "id": "eb5b09b4",
   "metadata": {
    "execution": {
     "iopub.execute_input": "2021-12-23T19:49:26.632829Z",
     "iopub.status.busy": "2021-12-23T19:49:26.631828Z",
     "iopub.status.idle": "2021-12-23T19:49:27.009860Z",
     "shell.execute_reply": "2021-12-23T19:49:27.009860Z",
     "shell.execute_reply.started": "2021-12-23T19:49:26.632829Z"
    },
    "tags": []
   },
   "outputs": [
    {
     "data": {
      "image/png": "[encoded data removed]",
      "text/plain": [
       "<Figure size 432x288 with 1 Axes>"
      ]
     },
     "metadata": {
      "needs_background": "light"
     },
     "output_type": "display_data"
    }
   ],
   "source": [
    "# Generate CDFs\n",
    "\n",
    "x_std1, y_std1 = ecdf(samples_std1)\n",
    "x_std3, y_std3 = ecdf(samples_std3)\n",
    "x_std10, y_std10 = ecdf(samples_std10)\n",
    "\n",
    "# Plot CDFs\n",
    "_ = plt.plot(x_std1, y_std1,marker='.',linestyle='none')\n",
    "\n",
    "_ = plt.plot(x_std3, y_std3,marker='.',linestyle='none')\n",
    "\n",
    "_ = plt.plot(x_std10, y_std10,marker='.',linestyle='none')\n",
    "\n",
    "\n",
    "# Make a legend and show the plot\n",
    "_ = plt.legend(('std = 1', 'std = 3', 'std = 10'), loc='lower right')\n",
    "plt.show()"
   ]
  },
  {
   "cell_type": "markdown",
   "id": "30294429",
   "metadata": {
    "execution": {
     "iopub.execute_input": "2021-12-23T19:33:20.508812Z",
     "iopub.status.busy": "2021-12-23T19:33:20.508812Z",
     "iopub.status.idle": "2021-12-23T19:33:20.525802Z",
     "shell.execute_reply": "2021-12-23T19:33:20.525802Z",
     "shell.execute_reply.started": "2021-12-23T19:33:20.508812Z"
    },
    "tags": []
   },
   "source": [
    "## Teste de normalidade\n",
    "\n",
    "Comparar CDF e ECDF ou seja qual a cumulative distribution function teórica se ele segue distribuição normal comparada a empirica ( dados observados realmente )"
   ]
  },
  {
   "cell_type": "code",
   "execution_count": 47,
   "id": "d39bb39c",
   "metadata": {
    "execution": {
     "iopub.execute_input": "2021-12-23T19:49:53.571546Z",
     "iopub.status.busy": "2021-12-23T19:49:53.570549Z",
     "iopub.status.idle": "2021-12-23T19:49:53.591548Z",
     "shell.execute_reply": "2021-12-23T19:49:53.591548Z",
     "shell.execute_reply.started": "2021-12-23T19:49:53.571546Z"
    },
    "tags": []
   },
   "outputs": [],
   "source": [
    "belmont_no_outliers = np.array([148.51, 146.65, 148.52, 150.7 , 150.42, 150.88, 151.57, 147.54,\n",
    "       149.65, 148.74, 147.86, 148.75, 147.5 , 148.26, 149.71, 146.56,\n",
    "       151.19, 147.88, 149.16, 148.82, 148.96, 152.02, 146.82, 149.97,\n",
    "       146.13, 148.1 , 147.2 , 146.  , 146.4 , 148.2 , 149.8 , 147.  ,\n",
    "       147.2 , 147.8 , 148.2 , 149.  , 149.8 , 148.6 , 146.8 , 149.6 ,\n",
    "       149.  , 148.2 , 149.2 , 148.  , 150.4 , 148.8 , 147.2 , 148.8 ,\n",
    "       149.6 , 148.4 , 148.4 , 150.2 , 148.8 , 149.2 , 149.2 , 148.4 ,\n",
    "       150.2 , 146.6 , 149.8 , 149.  , 150.8 , 148.6 , 150.2 , 149.  ,\n",
    "       148.6 , 150.2 , 148.2 , 149.4 , 150.8 , 150.2 , 152.2 , 148.2 ,\n",
    "       149.2 , 151.  , 149.6 , 149.6 , 149.4 , 148.6 , 150.  , 150.6 ,\n",
    "       149.2 , 152.6 , 152.8 , 149.6 , 151.6 , 152.8 , 153.2 , 152.4 ,\n",
    "       152.2 ])"
   ]
  },
  {
   "cell_type": "code",
   "execution_count": 48,
   "id": "67b6a4ae",
   "metadata": {
    "execution": {
     "iopub.execute_input": "2021-12-23T19:50:14.090391Z",
     "iopub.status.busy": "2021-12-23T19:50:14.089390Z",
     "iopub.status.idle": "2021-12-23T19:50:14.103393Z",
     "shell.execute_reply": "2021-12-23T19:50:14.103393Z",
     "shell.execute_reply.started": "2021-12-23T19:50:14.090391Z"
    },
    "tags": []
   },
   "outputs": [],
   "source": [
    "# Compute mean and standard deviation: mu, sigma\n",
    "mu = np.mean(belmont_no_outliers)\n",
    "sigma = np.std(belmont_no_outliers)"
   ]
  },
  {
   "cell_type": "code",
   "execution_count": 51,
   "id": "5878312a",
   "metadata": {
    "execution": {
     "iopub.execute_input": "2021-12-23T19:54:13.032958Z",
     "iopub.status.busy": "2021-12-23T19:54:13.032958Z",
     "iopub.status.idle": "2021-12-23T19:54:13.124958Z",
     "shell.execute_reply": "2021-12-23T19:54:13.124958Z",
     "shell.execute_reply.started": "2021-12-23T19:54:13.032958Z"
    },
    "tags": []
   },
   "outputs": [
    {
     "data": {
      "image/png": "[encoded data removed]",
      "text/plain": [
       "<Figure size 432x288 with 1 Axes>"
      ]
     },
     "metadata": {
      "needs_background": "light"
     },
     "output_type": "display_data"
    }
   ],
   "source": [
    "# Sample out of a normal distribution with this mu and sigma: samples\n",
    "samples = np.random.normal(mu,sigma,size=10000)\n",
    "\n",
    "# Get the CDF of the samples and of the data\n",
    "\n",
    "x_theor, y_theor = ecdf(samples)\n",
    "x, y = ecdf(belmont_no_outliers)\n",
    "\n",
    "# Plot the CDFs and show the plot\n",
    "_ = plt.plot(x_theor, y_theor)\n",
    "_ = plt.plot(x, y, marker='.', linestyle='none')\n",
    "_ = plt.legend(('cdf', 'ecdf'), loc='lower right')\n",
    "_ = plt.xlabel('Belmont winning time (sec.)')\n",
    "_ = plt.ylabel('CDF')\n",
    "plt.show()\n"
   ]
  }
 ],
 "metadata": {
  "kernelspec": {
   "display_name": "Python 3 (ipykernel)",
   "language": "python",
   "name": "python3"
  },
  "language_info": {
   "codemirror_mode": {
    "name": "ipython",
    "version": 3
   },
   "file_extension": ".py",
   "mimetype": "text/x-python",
   "name": "python",
   "nbconvert_exporter": "python",
   "pygments_lexer": "ipython3",
   "version": "3.10.9"
  }
 },
 "nbformat": 4,
 "nbformat_minor": 5
}
